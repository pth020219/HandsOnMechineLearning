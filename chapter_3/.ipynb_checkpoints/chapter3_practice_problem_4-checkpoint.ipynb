{
 "cells": [
  {
   "cell_type": "code",
   "execution_count": 1,
   "id": "01f53988",
   "metadata": {},
   "outputs": [],
   "source": [
    "# 스팸 분류기를 만들어 보세요."
   ]
  },
  {
   "cell_type": "code",
   "execution_count": 14,
   "id": "192e9bf0",
   "metadata": {},
   "outputs": [
    {
     "name": "stdout",
     "output_type": "stream",
     "text": [
      "Requirement already satisfied: nltk in c:\\users\\anfcl\\anaconda3\\lib\\site-packages (3.8.1)\n",
      "Requirement already satisfied: click in c:\\users\\anfcl\\anaconda3\\lib\\site-packages (from nltk) (8.0.4)\n",
      "Requirement already satisfied: joblib in c:\\users\\anfcl\\anaconda3\\lib\\site-packages (from nltk) (1.2.0)\n",
      "Requirement already satisfied: regex>=2021.8.3 in c:\\users\\anfcl\\anaconda3\\lib\\site-packages (from nltk) (2022.7.9)\n",
      "Requirement already satisfied: tqdm in c:\\users\\anfcl\\anaconda3\\lib\\site-packages (from nltk) (4.65.0)\n",
      "Requirement already satisfied: colorama in c:\\users\\anfcl\\anaconda3\\lib\\site-packages (from click->nltk) (0.4.6)\n",
      "Note: you may need to restart the kernel to use updated packages.\n"
     ]
    }
   ],
   "source": [
    "# pip install nltk"
   ]
  },
  {
   "cell_type": "code",
   "execution_count": 1,
   "id": "4281ecde",
   "metadata": {
    "scrolled": true
   },
   "outputs": [],
   "source": [
    "import os\n",
    "import tarfile\n",
    "import urllib\n",
    "import requests\n",
    "from bs4 import BeautifulSoup\n",
    "import re\n",
    "import shutil\n",
    "from tempfile import mkdtemp\n",
    "from sklearn.datasets import load_files\n",
    "from sklearn.model_selection import StratifiedShuffleSplit, cross_val_score, cross_val_predict\n",
    "import numpy as np\n",
    "import pandas as pd\n",
    "from sklearn.feature_extraction.text import TfidfVectorizer\n",
    "import html2text\n",
    "import matplotlib.pyplot as plt\n",
    "from sklearn.linear_model import SGDClassifier, LogisticRegression, RidgeClassifier\n",
    "from sklearn.base import BaseEstimator, TransformerMixin\n",
    "from sklearn.pipeline import Pipeline\n",
    "from sklearn.naive_bayes import MultinomialNB\n",
    "from sklearn.ensemble import RandomForestClassifier\n",
    "from sklearn.svm import LinearSVC, NuSVC, SVC\n",
    "from sklearn.model_selection import RandomizedSearchCV, GridSearchCV\n",
    "from sklearn.metrics import accuracy_score\n",
    "\n",
    "import nltk\n",
    "from nltk.stem import PorterStemmer\n",
    "from nltk.tokenize import word_tokenize\n",
    "from nltk.corpus import stopwords\n",
    "\n",
    "import time\n",
    "# nltk.download()\n"
   ]
  },
  {
   "cell_type": "code",
   "execution_count": 150,
   "id": "40a6fa5c",
   "metadata": {},
   "outputs": [],
   "source": [
    "\"\"\"\n",
    "\n",
    "# 데이터셋 다운로드\n",
    "\n",
    "download_root = \"https://spamassassin.apache.org/old/publiccorpus/\"  # 파일이 위치해있는 URL\n",
    "\n",
    "response = requests.get(download_root)    # requests 를 통한 URL 에 있는 'a' tag 추출\n",
    "soup = BeautifulSoup(response.text, 'html.parser') \n",
    "tags = soup.select('a')\n",
    "\n",
    "for i, tag in enumerate(tags):    # 'a' 태그 텍스트 추출\n",
    "    tags[i] = tag.get_text()\n",
    "    \n",
    "# 정규표현식을 활용한 파일 이름 추출\n",
    "\n",
    "regex = re.compile(r\"^[0-9]{8}.*\")\n",
    "file_names = []\n",
    "\n",
    "for i in range(len(tags)):\n",
    "    result = regex.search(tags[i])\n",
    "    if result:\n",
    "        file_names.append(result.group())\n",
    "                \n",
    "def fetch_mail_data(file_names=file_names, download_root=download_root):\n",
    "    os.makedirs(\"datasets/hams\", exist_ok=True)\n",
    "    os.makedirs('datasets/spams', exist_ok=True)\n",
    "    ham_number, spam_number = (0, 0)\n",
    "    \n",
    "    for name in file_names:\n",
    "        file_url = download_root + name\n",
    "        bz2_path = os.path.join('datasets', name)\n",
    "        urllib.request.urlretrieve(file_url, bz2_path)\n",
    "            \n",
    "        with tarfile.open(bz2_path, 'r') as tar:\n",
    "            tar.extractall(path='datasets')    # datasets 디렉토리에 바로 압축 해제\n",
    "        \n",
    "        middle = re.search('_(\\w+).tar.bz2', name).group(1)    \n",
    "        # 압축 해제시, 20021010_hard_ham.tar.bz 를 예시로 들면, hard_ham 디렉토리가 생성되고, 그 안에 데이터가 존재함.\n",
    "        # 데이터를 꺼내 hams or spams 디렉토리에 넣기 위해, hard_ham 같은 middle 문자열을 추출\n",
    "        \n",
    "        files = os.listdir(os.path.join('datasets', middle))\n",
    "            \n",
    "        if 'ham' in name:\n",
    "            for file in files:\n",
    "                shutil.move(os.path.join('datasets', middle, file), os.path.join('datasets', 'hams', file))\n",
    "                os.rename(os.path.join('datasets', 'hams', file), os.path.join('datasets', 'hams', str(ham_number) + '.txt'))\n",
    "                ham_number += 1\n",
    "        else:\n",
    "            for file in files:\n",
    "                shutil.move(os.path.join('datasets', middle, file), os.path.join('datasets', 'spams', file))\n",
    "                os.rename(os.path.join('datasets', 'spams', file), os.path.join('datasets', 'spams', str(spam_number) + '.txt'))\n",
    "                spam_number += 1\n",
    "                 \n",
    "        shutil.rmtree(os.path.join('datasets', middle))\n",
    "        \n",
    "\"\"\""
   ]
  },
  {
   "cell_type": "code",
   "execution_count": 151,
   "id": "6e3fbfe1",
   "metadata": {},
   "outputs": [],
   "source": [
    "# fetch_mail_data(file_names)"
   ]
  },
  {
   "cell_type": "code",
   "execution_count": 148,
   "id": "394ff520",
   "metadata": {},
   "outputs": [],
   "source": [
    "# shutil.rmtree('datasets')"
   ]
  },
  {
   "cell_type": "code",
   "execution_count": 2,
   "id": "48e5faaf",
   "metadata": {},
   "outputs": [],
   "source": [
    "start = time.time()\n",
    "\n",
    "data = load_files('datasets', allowed_extensions=['.txt'])"
   ]
  },
  {
   "cell_type": "code",
   "execution_count": 3,
   "id": "7f67fba0",
   "metadata": {},
   "outputs": [],
   "source": [
    "X, y = np.char.decode(np.array(data[\"data\"]), encoding='ISO-8859-1'), data[\"target\"]"
   ]
  },
  {
   "cell_type": "code",
   "execution_count": 85,
   "id": "927b6551",
   "metadata": {},
   "outputs": [],
   "source": [
    "# X, y = np.char.decode(np.array(data[\"data\"])[:2000], encoding='ISO-8859-1'), data[\"target\"][:2000]"
   ]
  },
  {
   "cell_type": "code",
   "execution_count": 4,
   "id": "646057bc",
   "metadata": {},
   "outputs": [],
   "source": [
    "# 훈련, 테스트 데이터 분리\n",
    "\n",
    "split = StratifiedShuffleSplit(n_splits=1, test_size=0.2)\n",
    "\n",
    "for train_index, test_index in split.split(X, y):\n",
    "    X_train = X[train_index]\n",
    "    X_test = X[test_index]\n",
    "    y_train = y[train_index]\n",
    "    y_test = y[test_index]"
   ]
  },
  {
   "cell_type": "code",
   "execution_count": 5,
   "id": "e65cd369",
   "metadata": {},
   "outputs": [],
   "source": [
    "# 이메일 헤더 제거\n",
    "\n",
    "class remove_header(BaseEstimator):\n",
    "    def __init__(self, perform = True):\n",
    "        self.perform = perform\n",
    "    \n",
    "    def fit(self, X, y=None):\n",
    "        return self\n",
    "    \n",
    "    def transform(self, X):\n",
    "        if self.perform:\n",
    "            for i in range(len(X)):\n",
    "                X[i] = X[i].replace(X[i].split(\"\\n\\n\")[0], '')\n",
    "        return X"
   ]
  },
  {
   "cell_type": "code",
   "execution_count": 6,
   "id": "a45a0c8f",
   "metadata": {},
   "outputs": [],
   "source": [
    "# URL 주소를 URL로 대체\n",
    "\n",
    "class change_url(BaseEstimator):\n",
    "    def __init__(self, perform = True):\n",
    "        self.perform = perform\n",
    "        self.url_changer = re.compile(r\"\\b(https|http):\\/\\/\\S+\\b\", re.DOTALL)\n",
    "    \n",
    "    def fit(self, X, y=None):\n",
    "        return self\n",
    "    \n",
    "    def transform(self, X):\n",
    "        if self.perform:\n",
    "            for i in range(len(X)):\n",
    "                X[i] =  self.url_changer.sub(\"URL\", X[i])\n",
    "        return X\n"
   ]
  },
  {
   "cell_type": "code",
   "execution_count": 7,
   "id": "d74c7fcc",
   "metadata": {},
   "outputs": [],
   "source": [
    "# 모든 숫자를 NUMBER로 대체\n",
    "\n",
    "class change_number(BaseEstimator):\n",
    "    def __init__(self, perform = True):\n",
    "        self.perform = perform\n",
    "        self.number_changer = re.compile(r\"\\d+\")\n",
    "    \n",
    "    def fit(self, X, y=None):\n",
    "        return self\n",
    "    \n",
    "    def transform(self, X):\n",
    "        if self.perform:\n",
    "            for i in range(len(X)):\n",
    "                X[i] =  self.number_changer.sub(\"NUMBER\", X[i])\n",
    "        return X    "
   ]
  },
  {
   "cell_type": "code",
   "execution_count": 8,
   "id": "567167df",
   "metadata": {},
   "outputs": [],
   "source": [
    "# html 태그 제거\n",
    "\n",
    "class remove_html(BaseEstimator):\n",
    "    def __init__(self, perform = True):\n",
    "        self.perform = perform\n",
    "        self.tag_remover = html2text.HTML2Text()\n",
    "        self.tag_remover.ignore_emphasis = True\n",
    "        self.tag_remover.strong_mark = ''\n",
    "    \n",
    "    def fit(self, X, y=None):\n",
    "        return self\n",
    "    \n",
    "    def transform(self, X):\n",
    "        if self.perform:\n",
    "            for i in range(len(X)):\n",
    "                X[i] =  self.tag_remover.handle(X[i])\n",
    "        return X   \n"
   ]
  },
  {
   "cell_type": "code",
   "execution_count": 9,
   "id": "9387b5c5",
   "metadata": {},
   "outputs": [],
   "source": [
    "# 어간 추출\n",
    "\n",
    "class stemmer(BaseEstimator):\n",
    "    def __init__(self, perform = True, word_length = 20):\n",
    "        self.perform = perform\n",
    "        self.stemmer = PorterStemmer()\n",
    "        self.word_length = word_length\n",
    "    \n",
    "    def fit(self, X, y=None):\n",
    "        return self\n",
    "    \n",
    "    def transform(self, X):\n",
    "        if self.perform:\n",
    "            for i in range(len(X)):\n",
    "                tokenized_sentence = word_tokenize(X[i])\n",
    "                stemming_word = [self.stemmer.stem(word) for word in tokenized_sentence if len(word) < self.word_length]\n",
    "                X[i] = \" \".join(stemming_word)\n",
    "        return X       "
   ]
  },
  {
   "cell_type": "code",
   "execution_count": 10,
   "id": "dcaa8877",
   "metadata": {},
   "outputs": [],
   "source": [
    "# 불용어 제거\n",
    "\n",
    "class stopword(BaseEstimator):\n",
    "    def __init__(self, perform = True):\n",
    "        self.perform = perform\n",
    "        self.stop_words = set(stopwords.words('english'))\n",
    "    \n",
    "    def fit(self, X, y=None):\n",
    "        return self\n",
    "    \n",
    "    def transform(self, X):\n",
    "        if self.perform:\n",
    "            for i in range(len(X)):\n",
    "                result = []\n",
    "                tokenized_sentence = word_tokenize(X[i])\n",
    "\n",
    "                for word in tokenized_sentence:\n",
    "                    if word not in self.stop_words:\n",
    "                        result.append(word)\n",
    "                X[i] = \" \".join(result)\n",
    "        return X     "
   ]
  },
  {
   "cell_type": "code",
   "execution_count": 11,
   "id": "dc8998e8",
   "metadata": {
    "scrolled": false
   },
   "outputs": [],
   "source": [
    "# 특성벡터 변환 (소문자 변환, 구두점 제거도 수행)\n",
    "\n",
    "# vectorizer = TfidfVectorizer(encoding='ISO-8859-1')\n",
    "# X_train = vectorizer.fit_transform(X_train)"
   ]
  },
  {
   "cell_type": "code",
   "execution_count": 12,
   "id": "0c9b8f5a",
   "metadata": {},
   "outputs": [],
   "source": [
    "# 전처리 파이프라인\n",
    "\n",
    "preprocessing_pipeline = Pipeline([\n",
    "    ('remove_header', remove_header(perform=True)),\n",
    "    ('change_url', change_url(perform=True)),\n",
    "    ('change_number', change_number(perform=True)),\n",
    "    ('remove_html', remove_html(perform=True)),\n",
    "    ('stemmer', stemmer(perform=True, word_length=20)),\n",
    "    ('stopword', stopword(perform=True)),\n",
    "    ('vectorizer', TfidfVectorizer(encoding='ISO-8859-1'))\n",
    "])"
   ]
  },
  {
   "cell_type": "code",
   "execution_count": 13,
   "id": "c864cd19",
   "metadata": {},
   "outputs": [],
   "source": [
    "X_train = preprocessing_pipeline.fit_transform(X_train)"
   ]
  },
  {
   "cell_type": "code",
   "execution_count": 14,
   "id": "a9fb067f",
   "metadata": {},
   "outputs": [
    {
     "name": "stderr",
     "output_type": "stream",
     "text": [
      "C:\\Users\\anfcl\\anaconda3\\Lib\\site-packages\\sklearn\\svm\\_classes.py:32: FutureWarning: The default value of `dual` will change from `True` to `'auto'` in 1.5. Set the value of `dual` explicitly to suppress the warning.\n",
      "  warnings.warn(\n"
     ]
    },
    {
     "name": "stdout",
     "output_type": "stream",
     "text": [
      "0.9934913993491399\n",
      "134.64524 sec\n"
     ]
    }
   ],
   "source": [
    "model = LinearSVC(C=10)\n",
    "model.fit(X_train, y_train)\n",
    "\n",
    "X_test = preprocessing_pipeline.transform(X_test)\n",
    "\n",
    "final_prediction = model.predict(X_test)\n",
    "\n",
    "accuracy = accuracy_score(y_test, final_prediction)\n",
    "print(accuracy)\n",
    "\n",
    "end = time.time()\n",
    "print(f\"{end - start:.5f} sec\")\n"
   ]
  },
  {
   "cell_type": "code",
   "execution_count": null,
   "id": "36b3d2f1",
   "metadata": {},
   "outputs": [],
   "source": [
    "# -------------------------------------- 여기까지는 문제 없음----------------------------------------"
   ]
  },
  {
   "cell_type": "code",
   "execution_count": 133,
   "id": "7c077b1c",
   "metadata": {},
   "outputs": [
    {
     "name": "stdout",
     "output_type": "stream",
     "text": [
      "SGDClassifier()\n",
      "\n",
      "\n",
      "\n",
      "0.9626468526034381\n",
      "\n",
      "\n",
      "\n",
      "\n",
      "LinearSVC()\n",
      "\n",
      "\n",
      "\n",
      "0.9674748465526207\n",
      "\n",
      "\n",
      "\n",
      "\n"
     ]
    },
    {
     "name": "stderr",
     "output_type": "stream",
     "text": [
      "C:\\Users\\anfcl\\anaconda3\\Lib\\site-packages\\sklearn\\svm\\_classes.py:32: FutureWarning: The default value of `dual` will change from `True` to `'auto'` in 1.5. Set the value of `dual` explicitly to suppress the warning.\n",
      "  warnings.warn(\n",
      "C:\\Users\\anfcl\\anaconda3\\Lib\\site-packages\\sklearn\\svm\\_classes.py:32: FutureWarning: The default value of `dual` will change from `True` to `'auto'` in 1.5. Set the value of `dual` explicitly to suppress the warning.\n",
      "  warnings.warn(\n",
      "C:\\Users\\anfcl\\anaconda3\\Lib\\site-packages\\sklearn\\svm\\_classes.py:32: FutureWarning: The default value of `dual` will change from `True` to `'auto'` in 1.5. Set the value of `dual` explicitly to suppress the warning.\n",
      "  warnings.warn(\n",
      "C:\\Users\\anfcl\\anaconda3\\Lib\\site-packages\\sklearn\\svm\\_classes.py:32: FutureWarning: The default value of `dual` will change from `True` to `'auto'` in 1.5. Set the value of `dual` explicitly to suppress the warning.\n",
      "  warnings.warn(\n"
     ]
    }
   ],
   "source": [
    "# 모델 초기 평가 함수\n",
    "\n",
    "\"\"\"\n",
    "\n",
    "def first_model_evaluation(X, y, cv, scoring, models):\n",
    "    for model in models:\n",
    "        model.fit(X, y)\n",
    "        print(str(model) + \"\\n\\n\\n\")\n",
    "        print(cross_val_score(model, X, y, cv=cv, scoring=scoring).mean())\n",
    "        print(\"\\n\\n\\n\")        \n",
    "        \n",
    "models = [SGDClassifier(), LogisticRegression(), RidgeClassifier(),\n",
    "          MultinomialNB(), RandomForestClassifier(),\n",
    "          LinearSVC(), NuSVC(), SVC()]\n",
    "\n",
    "models = [SGDClassifier(), LinearSVC()]\n",
    "\n",
    "first_model_evaluation(X_train, y_train, 3, \"f1\", models)\n",
    "\n",
    "# LinearSVC 로 선택.\n",
    "\n",
    "\"\"\""
   ]
  },
  {
   "cell_type": "code",
   "execution_count": 12,
   "id": "0f7e740c",
   "metadata": {},
   "outputs": [],
   "source": [
    "\"\"\"\n",
    "\n",
    "total_pipeline = Pipeline([\n",
    "    ('preprocessing', preprocessing_pipeline),\n",
    "    ('linearSVC', LinearSVC())\n",
    "    ])\n",
    "\n",
    "# 전처리 파이프라인에 예측 모델을 합치고, 하이퍼 파라미터 정밀 튜닝을 실시한다.\n",
    "# 최적 예측기를 통해 X_test 를 예측하려 하면, X_test 가 파이프라인을 따라 변환되지 않는다.\n",
    "\"\"\""
   ]
  },
  {
   "cell_type": "code",
   "execution_count": 12,
   "id": "8a7310d7",
   "metadata": {},
   "outputs": [
    {
     "name": "stdout",
     "output_type": "stream",
     "text": [
      "Fitting 3 folds for each of 5 candidates, totalling 15 fits\n"
     ]
    },
    {
     "name": "stderr",
     "output_type": "stream",
     "text": [
      "C:\\Users\\anfcl\\anaconda3\\Lib\\site-packages\\sklearn\\svm\\_classes.py:32: FutureWarning: The default value of `dual` will change from `True` to `'auto'` in 1.5. Set the value of `dual` explicitly to suppress the warning.\n",
      "  warnings.warn(\n"
     ]
    },
    {
     "name": "stdout",
     "output_type": "stream",
     "text": [
      "[CV 1/3] END .................linearSVC__C=0.01;, score=0.857 total time= 1.9min\n"
     ]
    },
    {
     "name": "stderr",
     "output_type": "stream",
     "text": [
      "C:\\Users\\anfcl\\anaconda3\\Lib\\site-packages\\sklearn\\svm\\_classes.py:32: FutureWarning: The default value of `dual` will change from `True` to `'auto'` in 1.5. Set the value of `dual` explicitly to suppress the warning.\n",
      "  warnings.warn(\n"
     ]
    },
    {
     "name": "stdout",
     "output_type": "stream",
     "text": [
      "[CV 2/3] END .................linearSVC__C=0.01;, score=0.860 total time= 1.7min\n"
     ]
    },
    {
     "name": "stderr",
     "output_type": "stream",
     "text": [
      "C:\\Users\\anfcl\\anaconda3\\Lib\\site-packages\\sklearn\\svm\\_classes.py:32: FutureWarning: The default value of `dual` will change from `True` to `'auto'` in 1.5. Set the value of `dual` explicitly to suppress the warning.\n",
      "  warnings.warn(\n"
     ]
    },
    {
     "name": "stdout",
     "output_type": "stream",
     "text": [
      "[CV 3/3] END .................linearSVC__C=0.01;, score=0.849 total time= 1.7min\n"
     ]
    },
    {
     "name": "stderr",
     "output_type": "stream",
     "text": [
      "C:\\Users\\anfcl\\anaconda3\\Lib\\site-packages\\sklearn\\svm\\_classes.py:32: FutureWarning: The default value of `dual` will change from `True` to `'auto'` in 1.5. Set the value of `dual` explicitly to suppress the warning.\n",
      "  warnings.warn(\n"
     ]
    },
    {
     "name": "stdout",
     "output_type": "stream",
     "text": [
      "[CV 1/3] END ..................linearSVC__C=0.1;, score=0.953 total time= 1.8min\n"
     ]
    },
    {
     "name": "stderr",
     "output_type": "stream",
     "text": [
      "C:\\Users\\anfcl\\anaconda3\\Lib\\site-packages\\sklearn\\svm\\_classes.py:32: FutureWarning: The default value of `dual` will change from `True` to `'auto'` in 1.5. Set the value of `dual` explicitly to suppress the warning.\n",
      "  warnings.warn(\n"
     ]
    },
    {
     "name": "stdout",
     "output_type": "stream",
     "text": [
      "[CV 2/3] END ..................linearSVC__C=0.1;, score=0.956 total time= 1.8min\n"
     ]
    },
    {
     "name": "stderr",
     "output_type": "stream",
     "text": [
      "C:\\Users\\anfcl\\anaconda3\\Lib\\site-packages\\sklearn\\svm\\_classes.py:32: FutureWarning: The default value of `dual` will change from `True` to `'auto'` in 1.5. Set the value of `dual` explicitly to suppress the warning.\n",
      "  warnings.warn(\n"
     ]
    },
    {
     "name": "stdout",
     "output_type": "stream",
     "text": [
      "[CV 3/3] END ..................linearSVC__C=0.1;, score=0.956 total time= 1.7min\n"
     ]
    },
    {
     "name": "stderr",
     "output_type": "stream",
     "text": [
      "C:\\Users\\anfcl\\anaconda3\\Lib\\site-packages\\sklearn\\svm\\_classes.py:32: FutureWarning: The default value of `dual` will change from `True` to `'auto'` in 1.5. Set the value of `dual` explicitly to suppress the warning.\n",
      "  warnings.warn(\n"
     ]
    },
    {
     "name": "stdout",
     "output_type": "stream",
     "text": [
      "[CV 1/3] END ....................linearSVC__C=1;, score=0.971 total time= 1.7min\n"
     ]
    },
    {
     "name": "stderr",
     "output_type": "stream",
     "text": [
      "C:\\Users\\anfcl\\anaconda3\\Lib\\site-packages\\sklearn\\svm\\_classes.py:32: FutureWarning: The default value of `dual` will change from `True` to `'auto'` in 1.5. Set the value of `dual` explicitly to suppress the warning.\n",
      "  warnings.warn(\n"
     ]
    },
    {
     "name": "stdout",
     "output_type": "stream",
     "text": [
      "[CV 2/3] END ....................linearSVC__C=1;, score=0.981 total time= 1.7min\n"
     ]
    },
    {
     "name": "stderr",
     "output_type": "stream",
     "text": [
      "C:\\Users\\anfcl\\anaconda3\\Lib\\site-packages\\sklearn\\svm\\_classes.py:32: FutureWarning: The default value of `dual` will change from `True` to `'auto'` in 1.5. Set the value of `dual` explicitly to suppress the warning.\n",
      "  warnings.warn(\n"
     ]
    },
    {
     "name": "stdout",
     "output_type": "stream",
     "text": [
      "[CV 3/3] END ....................linearSVC__C=1;, score=0.978 total time= 1.6min\n"
     ]
    },
    {
     "name": "stderr",
     "output_type": "stream",
     "text": [
      "C:\\Users\\anfcl\\anaconda3\\Lib\\site-packages\\sklearn\\svm\\_classes.py:32: FutureWarning: The default value of `dual` will change from `True` to `'auto'` in 1.5. Set the value of `dual` explicitly to suppress the warning.\n",
      "  warnings.warn(\n"
     ]
    },
    {
     "name": "stdout",
     "output_type": "stream",
     "text": [
      "[CV 1/3] END ...................linearSVC__C=10;, score=0.970 total time= 1.7min\n"
     ]
    },
    {
     "name": "stderr",
     "output_type": "stream",
     "text": [
      "C:\\Users\\anfcl\\anaconda3\\Lib\\site-packages\\sklearn\\svm\\_classes.py:32: FutureWarning: The default value of `dual` will change from `True` to `'auto'` in 1.5. Set the value of `dual` explicitly to suppress the warning.\n",
      "  warnings.warn(\n"
     ]
    },
    {
     "name": "stdout",
     "output_type": "stream",
     "text": [
      "[CV 2/3] END ...................linearSVC__C=10;, score=0.985 total time= 1.7min\n"
     ]
    },
    {
     "name": "stderr",
     "output_type": "stream",
     "text": [
      "C:\\Users\\anfcl\\anaconda3\\Lib\\site-packages\\sklearn\\svm\\_classes.py:32: FutureWarning: The default value of `dual` will change from `True` to `'auto'` in 1.5. Set the value of `dual` explicitly to suppress the warning.\n",
      "  warnings.warn(\n"
     ]
    },
    {
     "name": "stdout",
     "output_type": "stream",
     "text": [
      "[CV 3/3] END ...................linearSVC__C=10;, score=0.979 total time= 1.6min\n"
     ]
    },
    {
     "name": "stderr",
     "output_type": "stream",
     "text": [
      "C:\\Users\\anfcl\\anaconda3\\Lib\\site-packages\\sklearn\\svm\\_classes.py:32: FutureWarning: The default value of `dual` will change from `True` to `'auto'` in 1.5. Set the value of `dual` explicitly to suppress the warning.\n",
      "  warnings.warn(\n",
      "C:\\Users\\anfcl\\anaconda3\\Lib\\site-packages\\sklearn\\svm\\_base.py:1242: ConvergenceWarning: Liblinear failed to converge, increase the number of iterations.\n",
      "  warnings.warn(\n"
     ]
    },
    {
     "name": "stdout",
     "output_type": "stream",
     "text": [
      "[CV 1/3] END ..................linearSVC__C=100;, score=0.970 total time= 1.8min\n"
     ]
    },
    {
     "name": "stderr",
     "output_type": "stream",
     "text": [
      "C:\\Users\\anfcl\\anaconda3\\Lib\\site-packages\\sklearn\\svm\\_classes.py:32: FutureWarning: The default value of `dual` will change from `True` to `'auto'` in 1.5. Set the value of `dual` explicitly to suppress the warning.\n",
      "  warnings.warn(\n",
      "C:\\Users\\anfcl\\anaconda3\\Lib\\site-packages\\sklearn\\svm\\_base.py:1242: ConvergenceWarning: Liblinear failed to converge, increase the number of iterations.\n",
      "  warnings.warn(\n"
     ]
    },
    {
     "name": "stdout",
     "output_type": "stream",
     "text": [
      "[CV 2/3] END ..................linearSVC__C=100;, score=0.981 total time= 1.8min\n"
     ]
    },
    {
     "name": "stderr",
     "output_type": "stream",
     "text": [
      "C:\\Users\\anfcl\\anaconda3\\Lib\\site-packages\\sklearn\\svm\\_classes.py:32: FutureWarning: The default value of `dual` will change from `True` to `'auto'` in 1.5. Set the value of `dual` explicitly to suppress the warning.\n",
      "  warnings.warn(\n",
      "C:\\Users\\anfcl\\anaconda3\\Lib\\site-packages\\sklearn\\svm\\_base.py:1242: ConvergenceWarning: Liblinear failed to converge, increase the number of iterations.\n",
      "  warnings.warn(\n"
     ]
    },
    {
     "name": "stdout",
     "output_type": "stream",
     "text": [
      "[CV 3/3] END ..................linearSVC__C=100;, score=0.979 total time= 1.6min\n"
     ]
    },
    {
     "name": "stderr",
     "output_type": "stream",
     "text": [
      "C:\\Users\\anfcl\\anaconda3\\Lib\\site-packages\\sklearn\\svm\\_classes.py:32: FutureWarning: The default value of `dual` will change from `True` to `'auto'` in 1.5. Set the value of `dual` explicitly to suppress the warning.\n",
      "  warnings.warn(\n"
     ]
    },
    {
     "data": {
      "text/html": [
       "<style>#sk-container-id-1 {color: black;}#sk-container-id-1 pre{padding: 0;}#sk-container-id-1 div.sk-toggleable {background-color: white;}#sk-container-id-1 label.sk-toggleable__label {cursor: pointer;display: block;width: 100%;margin-bottom: 0;padding: 0.3em;box-sizing: border-box;text-align: center;}#sk-container-id-1 label.sk-toggleable__label-arrow:before {content: \"▸\";float: left;margin-right: 0.25em;color: #696969;}#sk-container-id-1 label.sk-toggleable__label-arrow:hover:before {color: black;}#sk-container-id-1 div.sk-estimator:hover label.sk-toggleable__label-arrow:before {color: black;}#sk-container-id-1 div.sk-toggleable__content {max-height: 0;max-width: 0;overflow: hidden;text-align: left;background-color: #f0f8ff;}#sk-container-id-1 div.sk-toggleable__content pre {margin: 0.2em;color: black;border-radius: 0.25em;background-color: #f0f8ff;}#sk-container-id-1 input.sk-toggleable__control:checked~div.sk-toggleable__content {max-height: 200px;max-width: 100%;overflow: auto;}#sk-container-id-1 input.sk-toggleable__control:checked~label.sk-toggleable__label-arrow:before {content: \"▾\";}#sk-container-id-1 div.sk-estimator input.sk-toggleable__control:checked~label.sk-toggleable__label {background-color: #d4ebff;}#sk-container-id-1 div.sk-label input.sk-toggleable__control:checked~label.sk-toggleable__label {background-color: #d4ebff;}#sk-container-id-1 input.sk-hidden--visually {border: 0;clip: rect(1px 1px 1px 1px);clip: rect(1px, 1px, 1px, 1px);height: 1px;margin: -1px;overflow: hidden;padding: 0;position: absolute;width: 1px;}#sk-container-id-1 div.sk-estimator {font-family: monospace;background-color: #f0f8ff;border: 1px dotted black;border-radius: 0.25em;box-sizing: border-box;margin-bottom: 0.5em;}#sk-container-id-1 div.sk-estimator:hover {background-color: #d4ebff;}#sk-container-id-1 div.sk-parallel-item::after {content: \"\";width: 100%;border-bottom: 1px solid gray;flex-grow: 1;}#sk-container-id-1 div.sk-label:hover label.sk-toggleable__label {background-color: #d4ebff;}#sk-container-id-1 div.sk-serial::before {content: \"\";position: absolute;border-left: 1px solid gray;box-sizing: border-box;top: 0;bottom: 0;left: 50%;z-index: 0;}#sk-container-id-1 div.sk-serial {display: flex;flex-direction: column;align-items: center;background-color: white;padding-right: 0.2em;padding-left: 0.2em;position: relative;}#sk-container-id-1 div.sk-item {position: relative;z-index: 1;}#sk-container-id-1 div.sk-parallel {display: flex;align-items: stretch;justify-content: center;background-color: white;position: relative;}#sk-container-id-1 div.sk-item::before, #sk-container-id-1 div.sk-parallel-item::before {content: \"\";position: absolute;border-left: 1px solid gray;box-sizing: border-box;top: 0;bottom: 0;left: 50%;z-index: -1;}#sk-container-id-1 div.sk-parallel-item {display: flex;flex-direction: column;z-index: 1;position: relative;background-color: white;}#sk-container-id-1 div.sk-parallel-item:first-child::after {align-self: flex-end;width: 50%;}#sk-container-id-1 div.sk-parallel-item:last-child::after {align-self: flex-start;width: 50%;}#sk-container-id-1 div.sk-parallel-item:only-child::after {width: 0;}#sk-container-id-1 div.sk-dashed-wrapped {border: 1px dashed gray;margin: 0 0.4em 0.5em 0.4em;box-sizing: border-box;padding-bottom: 0.4em;background-color: white;}#sk-container-id-1 div.sk-label label {font-family: monospace;font-weight: bold;display: inline-block;line-height: 1.2em;}#sk-container-id-1 div.sk-label-container {text-align: center;}#sk-container-id-1 div.sk-container {/* jupyter's `normalize.less` sets `[hidden] { display: none; }` but bootstrap.min.css set `[hidden] { display: none !important; }` so we also need the `!important` here to be able to override the default hidden behavior on the sphinx rendered scikit-learn.org. See: https://github.com/scikit-learn/scikit-learn/issues/21755 */display: inline-block !important;position: relative;}#sk-container-id-1 div.sk-text-repr-fallback {display: none;}</style><div id=\"sk-container-id-1\" class=\"sk-top-container\"><div class=\"sk-text-repr-fallback\"><pre>GridSearchCV(cv=3,\n",
       "             estimator=Pipeline(steps=[(&#x27;preprocessing&#x27;,\n",
       "                                        Pipeline(steps=[(&#x27;remove_header&#x27;,\n",
       "                                                         remove_header()),\n",
       "                                                        (&#x27;change_url&#x27;,\n",
       "                                                         change_url()),\n",
       "                                                        (&#x27;change_number&#x27;,\n",
       "                                                         change_number()),\n",
       "                                                        (&#x27;remove_html&#x27;,\n",
       "                                                         remove_html()),\n",
       "                                                        (&#x27;stemmer&#x27;, stemmer()),\n",
       "                                                        (&#x27;stopword&#x27;,\n",
       "                                                         stopword()),\n",
       "                                                        (&#x27;vectorizer&#x27;,\n",
       "                                                         TfidfVectorizer(encoding=&#x27;ISO-8859-1&#x27;))])),\n",
       "                                       (&#x27;linearSVC&#x27;, LinearSVC())]),\n",
       "             param_grid={&#x27;linearSVC__C&#x27;: [0.01, 0.1, 1, 10, 100]}, scoring=&#x27;f1&#x27;,\n",
       "             verbose=3)</pre><b>In a Jupyter environment, please rerun this cell to show the HTML representation or trust the notebook. <br />On GitHub, the HTML representation is unable to render, please try loading this page with nbviewer.org.</b></div><div class=\"sk-container\" hidden><div class=\"sk-item sk-dashed-wrapped\"><div class=\"sk-label-container\"><div class=\"sk-label sk-toggleable\"><input class=\"sk-toggleable__control sk-hidden--visually\" id=\"sk-estimator-id-1\" type=\"checkbox\" ><label for=\"sk-estimator-id-1\" class=\"sk-toggleable__label sk-toggleable__label-arrow\">GridSearchCV</label><div class=\"sk-toggleable__content\"><pre>GridSearchCV(cv=3,\n",
       "             estimator=Pipeline(steps=[(&#x27;preprocessing&#x27;,\n",
       "                                        Pipeline(steps=[(&#x27;remove_header&#x27;,\n",
       "                                                         remove_header()),\n",
       "                                                        (&#x27;change_url&#x27;,\n",
       "                                                         change_url()),\n",
       "                                                        (&#x27;change_number&#x27;,\n",
       "                                                         change_number()),\n",
       "                                                        (&#x27;remove_html&#x27;,\n",
       "                                                         remove_html()),\n",
       "                                                        (&#x27;stemmer&#x27;, stemmer()),\n",
       "                                                        (&#x27;stopword&#x27;,\n",
       "                                                         stopword()),\n",
       "                                                        (&#x27;vectorizer&#x27;,\n",
       "                                                         TfidfVectorizer(encoding=&#x27;ISO-8859-1&#x27;))])),\n",
       "                                       (&#x27;linearSVC&#x27;, LinearSVC())]),\n",
       "             param_grid={&#x27;linearSVC__C&#x27;: [0.01, 0.1, 1, 10, 100]}, scoring=&#x27;f1&#x27;,\n",
       "             verbose=3)</pre></div></div></div><div class=\"sk-parallel\"><div class=\"sk-parallel-item\"><div class=\"sk-item\"><div class=\"sk-label-container\"><div class=\"sk-label sk-toggleable\"><input class=\"sk-toggleable__control sk-hidden--visually\" id=\"sk-estimator-id-2\" type=\"checkbox\" ><label for=\"sk-estimator-id-2\" class=\"sk-toggleable__label sk-toggleable__label-arrow\">estimator: Pipeline</label><div class=\"sk-toggleable__content\"><pre>Pipeline(steps=[(&#x27;preprocessing&#x27;,\n",
       "                 Pipeline(steps=[(&#x27;remove_header&#x27;, remove_header()),\n",
       "                                 (&#x27;change_url&#x27;, change_url()),\n",
       "                                 (&#x27;change_number&#x27;, change_number()),\n",
       "                                 (&#x27;remove_html&#x27;, remove_html()),\n",
       "                                 (&#x27;stemmer&#x27;, stemmer()),\n",
       "                                 (&#x27;stopword&#x27;, stopword()),\n",
       "                                 (&#x27;vectorizer&#x27;,\n",
       "                                  TfidfVectorizer(encoding=&#x27;ISO-8859-1&#x27;))])),\n",
       "                (&#x27;linearSVC&#x27;, LinearSVC())])</pre></div></div></div><div class=\"sk-serial\"><div class=\"sk-item\"><div class=\"sk-serial\"><div class=\"sk-item\"><div class=\"sk-label-container\"><div class=\"sk-label sk-toggleable\"><input class=\"sk-toggleable__control sk-hidden--visually\" id=\"sk-estimator-id-3\" type=\"checkbox\" ><label for=\"sk-estimator-id-3\" class=\"sk-toggleable__label sk-toggleable__label-arrow\">preprocessing: Pipeline</label><div class=\"sk-toggleable__content\"><pre>Pipeline(steps=[(&#x27;remove_header&#x27;, remove_header()),\n",
       "                (&#x27;change_url&#x27;, change_url()),\n",
       "                (&#x27;change_number&#x27;, change_number()),\n",
       "                (&#x27;remove_html&#x27;, remove_html()), (&#x27;stemmer&#x27;, stemmer()),\n",
       "                (&#x27;stopword&#x27;, stopword()),\n",
       "                (&#x27;vectorizer&#x27;, TfidfVectorizer(encoding=&#x27;ISO-8859-1&#x27;))])</pre></div></div></div><div class=\"sk-serial\"><div class=\"sk-item\"><div class=\"sk-estimator sk-toggleable\"><input class=\"sk-toggleable__control sk-hidden--visually\" id=\"sk-estimator-id-4\" type=\"checkbox\" ><label for=\"sk-estimator-id-4\" class=\"sk-toggleable__label sk-toggleable__label-arrow\">remove_header</label><div class=\"sk-toggleable__content\"><pre>remove_header()</pre></div></div></div><div class=\"sk-item\"><div class=\"sk-estimator sk-toggleable\"><input class=\"sk-toggleable__control sk-hidden--visually\" id=\"sk-estimator-id-5\" type=\"checkbox\" ><label for=\"sk-estimator-id-5\" class=\"sk-toggleable__label sk-toggleable__label-arrow\">change_url</label><div class=\"sk-toggleable__content\"><pre>change_url()</pre></div></div></div><div class=\"sk-item\"><div class=\"sk-estimator sk-toggleable\"><input class=\"sk-toggleable__control sk-hidden--visually\" id=\"sk-estimator-id-6\" type=\"checkbox\" ><label for=\"sk-estimator-id-6\" class=\"sk-toggleable__label sk-toggleable__label-arrow\">change_number</label><div class=\"sk-toggleable__content\"><pre>change_number()</pre></div></div></div><div class=\"sk-item\"><div class=\"sk-estimator sk-toggleable\"><input class=\"sk-toggleable__control sk-hidden--visually\" id=\"sk-estimator-id-7\" type=\"checkbox\" ><label for=\"sk-estimator-id-7\" class=\"sk-toggleable__label sk-toggleable__label-arrow\">remove_html</label><div class=\"sk-toggleable__content\"><pre>remove_html()</pre></div></div></div><div class=\"sk-item\"><div class=\"sk-estimator sk-toggleable\"><input class=\"sk-toggleable__control sk-hidden--visually\" id=\"sk-estimator-id-8\" type=\"checkbox\" ><label for=\"sk-estimator-id-8\" class=\"sk-toggleable__label sk-toggleable__label-arrow\">stemmer</label><div class=\"sk-toggleable__content\"><pre>stemmer()</pre></div></div></div><div class=\"sk-item\"><div class=\"sk-estimator sk-toggleable\"><input class=\"sk-toggleable__control sk-hidden--visually\" id=\"sk-estimator-id-9\" type=\"checkbox\" ><label for=\"sk-estimator-id-9\" class=\"sk-toggleable__label sk-toggleable__label-arrow\">stopword</label><div class=\"sk-toggleable__content\"><pre>stopword()</pre></div></div></div><div class=\"sk-item\"><div class=\"sk-estimator sk-toggleable\"><input class=\"sk-toggleable__control sk-hidden--visually\" id=\"sk-estimator-id-10\" type=\"checkbox\" ><label for=\"sk-estimator-id-10\" class=\"sk-toggleable__label sk-toggleable__label-arrow\">TfidfVectorizer</label><div class=\"sk-toggleable__content\"><pre>TfidfVectorizer(encoding=&#x27;ISO-8859-1&#x27;)</pre></div></div></div></div></div><div class=\"sk-item\"><div class=\"sk-estimator sk-toggleable\"><input class=\"sk-toggleable__control sk-hidden--visually\" id=\"sk-estimator-id-11\" type=\"checkbox\" ><label for=\"sk-estimator-id-11\" class=\"sk-toggleable__label sk-toggleable__label-arrow\">LinearSVC</label><div class=\"sk-toggleable__content\"><pre>LinearSVC()</pre></div></div></div></div></div></div></div></div></div></div></div></div>"
      ],
      "text/plain": [
       "GridSearchCV(cv=3,\n",
       "             estimator=Pipeline(steps=[('preprocessing',\n",
       "                                        Pipeline(steps=[('remove_header',\n",
       "                                                         remove_header()),\n",
       "                                                        ('change_url',\n",
       "                                                         change_url()),\n",
       "                                                        ('change_number',\n",
       "                                                         change_number()),\n",
       "                                                        ('remove_html',\n",
       "                                                         remove_html()),\n",
       "                                                        ('stemmer', stemmer()),\n",
       "                                                        ('stopword',\n",
       "                                                         stopword()),\n",
       "                                                        ('vectorizer',\n",
       "                                                         TfidfVectorizer(encoding='ISO-8859-1'))])),\n",
       "                                       ('linearSVC', LinearSVC())]),\n",
       "             param_grid={'linearSVC__C': [0.01, 0.1, 1, 10, 100]}, scoring='f1',\n",
       "             verbose=3)"
      ]
     },
     "execution_count": 12,
     "metadata": {},
     "output_type": "execute_result"
    }
   ],
   "source": [
    "# 하이퍼파라미터 정밀 튜닝\n",
    "\"\"\"\n",
    "\n",
    "\n",
    "param = {\n",
    "    'linearSVC__C':[0.01, 0.1, 1, 10, 100]\n",
    "}\n",
    "\n",
    "gs = GridSearchCV(total_pipeline, param_grid=param, scoring=\"f1\", cv=3, verbose=3)\n",
    "gs.fit(X_train, y_train)\n",
    "\"\"\""
   ]
  },
  {
   "cell_type": "code",
   "execution_count": 13,
   "id": "279fd71b",
   "metadata": {},
   "outputs": [
    {
     "data": {
      "text/plain": [
       "{'linearSVC__C': 10}"
      ]
     },
     "execution_count": 13,
     "metadata": {},
     "output_type": "execute_result"
    }
   ],
   "source": [
    "# gs.best_params_"
   ]
  },
  {
   "cell_type": "code",
   "execution_count": 14,
   "id": "ff687fd5",
   "metadata": {},
   "outputs": [],
   "source": [
    "# final_model = gs.best_estimator_"
   ]
  },
  {
   "cell_type": "code",
   "execution_count": 17,
   "id": "b17bec8e",
   "metadata": {},
   "outputs": [
    {
     "name": "stdout",
     "output_type": "stream",
     "text": [
      "0.6466759646675965\n"
     ]
    }
   ],
   "source": [
    "\"\"\"\n",
    "final_prediction = final_model.predict(X_test)\n",
    "\n",
    "accuracy = accuracy_score(y_test, final_prediction)\n",
    "print(accuracy)\n",
    "\"\"\""
   ]
  },
  {
   "cell_type": "code",
   "execution_count": 26,
   "id": "8bad2f31",
   "metadata": {},
   "outputs": [
    {
     "data": {
      "text/plain": [
       "10751"
      ]
     },
     "execution_count": 26,
     "metadata": {},
     "output_type": "execute_result"
    }
   ],
   "source": [
    "# len(data[\"data\"])"
   ]
  }
 ],
 "metadata": {
  "kernelspec": {
   "display_name": "Python 3 (ipykernel)",
   "language": "python",
   "name": "python3"
  },
  "language_info": {
   "codemirror_mode": {
    "name": "ipython",
    "version": 3
   },
   "file_extension": ".py",
   "mimetype": "text/x-python",
   "name": "python",
   "nbconvert_exporter": "python",
   "pygments_lexer": "ipython3",
   "version": "3.11.5"
  }
 },
 "nbformat": 4,
 "nbformat_minor": 5
}
