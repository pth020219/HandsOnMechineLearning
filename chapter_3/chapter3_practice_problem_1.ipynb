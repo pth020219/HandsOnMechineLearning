{
 "cells": [
  {
   "cell_type": "code",
   "execution_count": 1,
   "id": "05e7784c",
   "metadata": {},
   "outputs": [],
   "source": [
    "# MNIST 데이터셋으로 분류기를 만들어 테스트 세트에서 97% 정확도를 달성해보세요."
   ]
  },
  {
   "cell_type": "code",
   "execution_count": 1,
   "id": "1fd11383",
   "metadata": {},
   "outputs": [],
   "source": [
    "# 라이브러리 import\n",
    "\n",
    "import pandas as pd\n",
    "import numpy as np\n",
    "import matplotlib as mpl\n",
    "import matplotlib.pyplot as plt\n",
    "from sklearn.datasets import fetch_openml\n",
    "from sklearn.preprocessing import StandardScaler, MinMaxScaler\n",
    "from sklearn.base import BaseEstimator, TransformerMixin\n",
    "from sklearn.pipeline import Pipeline\n",
    "from sklearn.neighbors import KNeighborsClassifier\n",
    "from sklearn.model_selection import RandomizedSearchCV, GridSearchCV\n",
    "from sklearn.metrics import accuracy_score"
   ]
  },
  {
   "cell_type": "code",
   "execution_count": 2,
   "id": "dd430320",
   "metadata": {},
   "outputs": [],
   "source": [
    "# mnist 데이터셋 획득\n",
    "\n",
    "def get_mnist():\n",
    "    mnist = fetch_openml('mnist_784', version=1, as_frame=False)\n",
    "    X, y = mnist[\"data\"], mnist[\"target\"]\n",
    "    y = y.astype(np.uint8)\n",
    "    X_train, X_test, y_train, y_test = X[:60000], X[60000:], y[:60000], y[60000:]\n",
    "    return X_train, X_test, y_train, y_test"
   ]
  },
  {
   "cell_type": "code",
   "execution_count": 3,
   "id": "eaddfc1f",
   "metadata": {},
   "outputs": [
    {
     "name": "stderr",
     "output_type": "stream",
     "text": [
      "C:\\Users\\anfcl\\anaconda3\\Lib\\site-packages\\sklearn\\datasets\\_openml.py:1002: FutureWarning: The default value of `parser` will change from `'liac-arff'` to `'auto'` in 1.4. You can set `parser='auto'` to silence this warning. Therefore, an `ImportError` will be raised from 1.4 if the dataset is dense and pandas is not installed. Note that the pandas parser may return different data types. See the Notes Section in fetch_openml's API doc for details.\n",
      "  warn(\n"
     ]
    }
   ],
   "source": [
    "X_train, X_test, y_train, y_test = get_mnist()"
   ]
  },
  {
   "cell_type": "code",
   "execution_count": 4,
   "id": "771e4e61",
   "metadata": {},
   "outputs": [],
   "source": [
    "# X data standardization or Normalization\n",
    "\n",
    "class standard_or_normal(BaseEstimator):\n",
    "    def __init__(self, select_standard = True):\n",
    "        self.select_standard = select_standard\n",
    "        self.scaler = StandardScaler()\n",
    "        self.normalizer = MinMaxScaler()\n",
    "        \n",
    "    def fit(self, X, y=None):\n",
    "        if self.select_standard:\n",
    "            self.scaler.fit(X)\n",
    "        else:\n",
    "            self.normalizer.fit(X)\n",
    "        return self\n",
    "    \n",
    "    def transform(self, X):\n",
    "        if self.select_standard:\n",
    "            return self.scaler.transform(X)\n",
    "        else:\n",
    "            return self.normalizer.transform(X)"
   ]
  },
  {
   "cell_type": "code",
   "execution_count": 5,
   "id": "f9157367",
   "metadata": {},
   "outputs": [],
   "source": [
    "# Pipeline 생성\n",
    "\n",
    "pipeline = Pipeline([\n",
    "    ('standard_or_normal', standard_or_normal(select_standard=True)),\n",
    "    ('knn_clf', KNeighborsClassifier())\n",
    "])"
   ]
  },
  {
   "cell_type": "code",
   "execution_count": 6,
   "id": "ec49d532",
   "metadata": {},
   "outputs": [
    {
     "name": "stdout",
     "output_type": "stream",
     "text": [
      "Fitting 3 folds for each of 40 candidates, totalling 120 fits\n",
      "[CV 1/3] END knn_clf__n_neighbors=1, knn_clf__weights=uniform, standard_or_normal__select_standard=True;, score=0.935 total time=   3.3s\n",
      "[CV 2/3] END knn_clf__n_neighbors=1, knn_clf__weights=uniform, standard_or_normal__select_standard=True;, score=0.939 total time=   2.9s\n",
      "[CV 3/3] END knn_clf__n_neighbors=1, knn_clf__weights=uniform, standard_or_normal__select_standard=True;, score=0.941 total time=   2.8s\n",
      "[CV 1/3] END knn_clf__n_neighbors=1, knn_clf__weights=uniform, standard_or_normal__select_standard=False;, score=0.969 total time=   2.8s\n",
      "[CV 2/3] END knn_clf__n_neighbors=1, knn_clf__weights=uniform, standard_or_normal__select_standard=False;, score=0.967 total time=   2.7s\n",
      "[CV 3/3] END knn_clf__n_neighbors=1, knn_clf__weights=uniform, standard_or_normal__select_standard=False;, score=0.967 total time=   2.8s\n",
      "[CV 1/3] END knn_clf__n_neighbors=1, knn_clf__weights=distance, standard_or_normal__select_standard=True;, score=0.935 total time=   3.0s\n",
      "[CV 2/3] END knn_clf__n_neighbors=1, knn_clf__weights=distance, standard_or_normal__select_standard=True;, score=0.939 total time=   2.9s\n",
      "[CV 3/3] END knn_clf__n_neighbors=1, knn_clf__weights=distance, standard_or_normal__select_standard=True;, score=0.941 total time=   2.9s\n",
      "[CV 1/3] END knn_clf__n_neighbors=1, knn_clf__weights=distance, standard_or_normal__select_standard=False;, score=0.969 total time=   2.7s\n",
      "[CV 2/3] END knn_clf__n_neighbors=1, knn_clf__weights=distance, standard_or_normal__select_standard=False;, score=0.967 total time=   2.8s\n",
      "[CV 3/3] END knn_clf__n_neighbors=1, knn_clf__weights=distance, standard_or_normal__select_standard=False;, score=0.967 total time=   2.8s\n",
      "[CV 1/3] END knn_clf__n_neighbors=2, knn_clf__weights=uniform, standard_or_normal__select_standard=True;, score=0.925 total time=   2.9s\n",
      "[CV 2/3] END knn_clf__n_neighbors=2, knn_clf__weights=uniform, standard_or_normal__select_standard=True;, score=0.929 total time=   2.9s\n",
      "[CV 3/3] END knn_clf__n_neighbors=2, knn_clf__weights=uniform, standard_or_normal__select_standard=True;, score=0.929 total time=   2.9s\n",
      "[CV 1/3] END knn_clf__n_neighbors=2, knn_clf__weights=uniform, standard_or_normal__select_standard=False;, score=0.960 total time=   2.9s\n",
      "[CV 2/3] END knn_clf__n_neighbors=2, knn_clf__weights=uniform, standard_or_normal__select_standard=False;, score=0.960 total time=   2.8s\n",
      "[CV 3/3] END knn_clf__n_neighbors=2, knn_clf__weights=uniform, standard_or_normal__select_standard=False;, score=0.962 total time=   2.8s\n",
      "[CV 1/3] END knn_clf__n_neighbors=2, knn_clf__weights=distance, standard_or_normal__select_standard=True;, score=0.935 total time=   2.9s\n",
      "[CV 2/3] END knn_clf__n_neighbors=2, knn_clf__weights=distance, standard_or_normal__select_standard=True;, score=0.939 total time=   3.0s\n",
      "[CV 3/3] END knn_clf__n_neighbors=2, knn_clf__weights=distance, standard_or_normal__select_standard=True;, score=0.941 total time=   2.9s\n",
      "[CV 1/3] END knn_clf__n_neighbors=2, knn_clf__weights=distance, standard_or_normal__select_standard=False;, score=0.969 total time=   2.7s\n",
      "[CV 2/3] END knn_clf__n_neighbors=2, knn_clf__weights=distance, standard_or_normal__select_standard=False;, score=0.967 total time=   2.9s\n",
      "[CV 3/3] END knn_clf__n_neighbors=2, knn_clf__weights=distance, standard_or_normal__select_standard=False;, score=0.967 total time=   2.8s\n",
      "[CV 1/3] END knn_clf__n_neighbors=3, knn_clf__weights=uniform, standard_or_normal__select_standard=True;, score=0.938 total time=   3.0s\n",
      "[CV 2/3] END knn_clf__n_neighbors=3, knn_clf__weights=uniform, standard_or_normal__select_standard=True;, score=0.941 total time=   2.9s\n",
      "[CV 3/3] END knn_clf__n_neighbors=3, knn_clf__weights=uniform, standard_or_normal__select_standard=True;, score=0.941 total time=   3.0s\n",
      "[CV 1/3] END knn_clf__n_neighbors=3, knn_clf__weights=uniform, standard_or_normal__select_standard=False;, score=0.969 total time=   2.7s\n",
      "[CV 2/3] END knn_clf__n_neighbors=3, knn_clf__weights=uniform, standard_or_normal__select_standard=False;, score=0.968 total time=   2.7s\n",
      "[CV 3/3] END knn_clf__n_neighbors=3, knn_clf__weights=uniform, standard_or_normal__select_standard=False;, score=0.968 total time=   2.8s\n",
      "[CV 1/3] END knn_clf__n_neighbors=3, knn_clf__weights=distance, standard_or_normal__select_standard=True;, score=0.940 total time=   2.9s\n",
      "[CV 2/3] END knn_clf__n_neighbors=3, knn_clf__weights=distance, standard_or_normal__select_standard=True;, score=0.942 total time=   3.0s\n",
      "[CV 3/3] END knn_clf__n_neighbors=3, knn_clf__weights=distance, standard_or_normal__select_standard=True;, score=0.943 total time=   3.0s\n",
      "[CV 1/3] END knn_clf__n_neighbors=3, knn_clf__weights=distance, standard_or_normal__select_standard=False;, score=0.970 total time=   2.8s\n",
      "[CV 2/3] END knn_clf__n_neighbors=3, knn_clf__weights=distance, standard_or_normal__select_standard=False;, score=0.969 total time=   2.8s\n",
      "[CV 3/3] END knn_clf__n_neighbors=3, knn_clf__weights=distance, standard_or_normal__select_standard=False;, score=0.969 total time=   2.9s\n",
      "[CV 1/3] END knn_clf__n_neighbors=4, knn_clf__weights=uniform, standard_or_normal__select_standard=True;, score=0.936 total time=   2.9s\n",
      "[CV 2/3] END knn_clf__n_neighbors=4, knn_clf__weights=uniform, standard_or_normal__select_standard=True;, score=0.940 total time=   3.0s\n",
      "[CV 3/3] END knn_clf__n_neighbors=4, knn_clf__weights=uniform, standard_or_normal__select_standard=True;, score=0.938 total time=   3.0s\n",
      "[CV 1/3] END knn_clf__n_neighbors=4, knn_clf__weights=uniform, standard_or_normal__select_standard=False;, score=0.966 total time=   2.8s\n",
      "[CV 2/3] END knn_clf__n_neighbors=4, knn_clf__weights=uniform, standard_or_normal__select_standard=False;, score=0.966 total time=   2.8s\n",
      "[CV 3/3] END knn_clf__n_neighbors=4, knn_clf__weights=uniform, standard_or_normal__select_standard=False;, score=0.967 total time=   2.8s\n",
      "[CV 1/3] END knn_clf__n_neighbors=4, knn_clf__weights=distance, standard_or_normal__select_standard=True;, score=0.943 total time=   2.9s\n",
      "[CV 2/3] END knn_clf__n_neighbors=4, knn_clf__weights=distance, standard_or_normal__select_standard=True;, score=0.944 total time=   2.9s\n",
      "[CV 3/3] END knn_clf__n_neighbors=4, knn_clf__weights=distance, standard_or_normal__select_standard=True;, score=0.944 total time=   2.9s\n",
      "[CV 1/3] END knn_clf__n_neighbors=4, knn_clf__weights=distance, standard_or_normal__select_standard=False;, score=0.971 total time=   2.8s\n",
      "[CV 2/3] END knn_clf__n_neighbors=4, knn_clf__weights=distance, standard_or_normal__select_standard=False;, score=0.970 total time=   2.8s\n",
      "[CV 3/3] END knn_clf__n_neighbors=4, knn_clf__weights=distance, standard_or_normal__select_standard=False;, score=0.970 total time=   2.8s\n",
      "[CV 1/3] END knn_clf__n_neighbors=5, knn_clf__weights=uniform, standard_or_normal__select_standard=True;, score=0.938 total time=   3.0s\n",
      "[CV 2/3] END knn_clf__n_neighbors=5, knn_clf__weights=uniform, standard_or_normal__select_standard=True;, score=0.941 total time=   3.0s\n",
      "[CV 3/3] END knn_clf__n_neighbors=5, knn_clf__weights=uniform, standard_or_normal__select_standard=True;, score=0.942 total time=   2.9s\n",
      "[CV 1/3] END knn_clf__n_neighbors=5, knn_clf__weights=uniform, standard_or_normal__select_standard=False;, score=0.968 total time=   2.8s\n",
      "[CV 2/3] END knn_clf__n_neighbors=5, knn_clf__weights=uniform, standard_or_normal__select_standard=False;, score=0.967 total time=   2.8s\n",
      "[CV 3/3] END knn_clf__n_neighbors=5, knn_clf__weights=uniform, standard_or_normal__select_standard=False;, score=0.968 total time=   2.8s\n",
      "[CV 1/3] END knn_clf__n_neighbors=5, knn_clf__weights=distance, standard_or_normal__select_standard=True;, score=0.940 total time=   2.9s\n",
      "[CV 2/3] END knn_clf__n_neighbors=5, knn_clf__weights=distance, standard_or_normal__select_standard=True;, score=0.943 total time=   2.9s\n",
      "[CV 3/3] END knn_clf__n_neighbors=5, knn_clf__weights=distance, standard_or_normal__select_standard=True;, score=0.943 total time=   3.1s\n",
      "[CV 1/3] END knn_clf__n_neighbors=5, knn_clf__weights=distance, standard_or_normal__select_standard=False;, score=0.969 total time=   2.8s\n",
      "[CV 2/3] END knn_clf__n_neighbors=5, knn_clf__weights=distance, standard_or_normal__select_standard=False;, score=0.968 total time=   2.8s\n"
     ]
    },
    {
     "name": "stdout",
     "output_type": "stream",
     "text": [
      "[CV 3/3] END knn_clf__n_neighbors=5, knn_clf__weights=distance, standard_or_normal__select_standard=False;, score=0.969 total time=   2.8s\n",
      "[CV 1/3] END knn_clf__n_neighbors=6, knn_clf__weights=uniform, standard_or_normal__select_standard=True;, score=0.936 total time=   2.9s\n",
      "[CV 2/3] END knn_clf__n_neighbors=6, knn_clf__weights=uniform, standard_or_normal__select_standard=True;, score=0.939 total time=   2.9s\n",
      "[CV 3/3] END knn_clf__n_neighbors=6, knn_clf__weights=uniform, standard_or_normal__select_standard=True;, score=0.940 total time=   3.0s\n",
      "[CV 1/3] END knn_clf__n_neighbors=6, knn_clf__weights=uniform, standard_or_normal__select_standard=False;, score=0.965 total time=   2.8s\n",
      "[CV 2/3] END knn_clf__n_neighbors=6, knn_clf__weights=uniform, standard_or_normal__select_standard=False;, score=0.965 total time=   2.8s\n",
      "[CV 3/3] END knn_clf__n_neighbors=6, knn_clf__weights=uniform, standard_or_normal__select_standard=False;, score=0.966 total time=   2.8s\n",
      "[CV 1/3] END knn_clf__n_neighbors=6, knn_clf__weights=distance, standard_or_normal__select_standard=True;, score=0.941 total time=   2.9s\n",
      "[CV 2/3] END knn_clf__n_neighbors=6, knn_clf__weights=distance, standard_or_normal__select_standard=True;, score=0.944 total time=   2.9s\n",
      "[CV 3/3] END knn_clf__n_neighbors=6, knn_clf__weights=distance, standard_or_normal__select_standard=True;, score=0.945 total time=   2.9s\n",
      "[CV 1/3] END knn_clf__n_neighbors=6, knn_clf__weights=distance, standard_or_normal__select_standard=False;, score=0.970 total time=   2.8s\n",
      "[CV 2/3] END knn_clf__n_neighbors=6, knn_clf__weights=distance, standard_or_normal__select_standard=False;, score=0.969 total time=   2.8s\n",
      "[CV 3/3] END knn_clf__n_neighbors=6, knn_clf__weights=distance, standard_or_normal__select_standard=False;, score=0.970 total time=   3.0s\n",
      "[CV 1/3] END knn_clf__n_neighbors=7, knn_clf__weights=uniform, standard_or_normal__select_standard=True;, score=0.935 total time=   3.0s\n",
      "[CV 2/3] END knn_clf__n_neighbors=7, knn_clf__weights=uniform, standard_or_normal__select_standard=True;, score=0.940 total time=   2.9s\n",
      "[CV 3/3] END knn_clf__n_neighbors=7, knn_clf__weights=uniform, standard_or_normal__select_standard=True;, score=0.940 total time=   3.0s\n",
      "[CV 1/3] END knn_clf__n_neighbors=7, knn_clf__weights=uniform, standard_or_normal__select_standard=False;, score=0.965 total time=   2.8s\n",
      "[CV 2/3] END knn_clf__n_neighbors=7, knn_clf__weights=uniform, standard_or_normal__select_standard=False;, score=0.965 total time=   2.8s\n",
      "[CV 3/3] END knn_clf__n_neighbors=7, knn_clf__weights=uniform, standard_or_normal__select_standard=False;, score=0.966 total time=   2.7s\n",
      "[CV 1/3] END knn_clf__n_neighbors=7, knn_clf__weights=distance, standard_or_normal__select_standard=True;, score=0.937 total time=   2.9s\n",
      "[CV 2/3] END knn_clf__n_neighbors=7, knn_clf__weights=distance, standard_or_normal__select_standard=True;, score=0.941 total time=   2.9s\n",
      "[CV 3/3] END knn_clf__n_neighbors=7, knn_clf__weights=distance, standard_or_normal__select_standard=True;, score=0.943 total time=   3.0s\n",
      "[CV 1/3] END knn_clf__n_neighbors=7, knn_clf__weights=distance, standard_or_normal__select_standard=False;, score=0.967 total time=   2.9s\n",
      "[CV 2/3] END knn_clf__n_neighbors=7, knn_clf__weights=distance, standard_or_normal__select_standard=False;, score=0.966 total time=   2.9s\n",
      "[CV 3/3] END knn_clf__n_neighbors=7, knn_clf__weights=distance, standard_or_normal__select_standard=False;, score=0.967 total time=   2.8s\n",
      "[CV 1/3] END knn_clf__n_neighbors=8, knn_clf__weights=uniform, standard_or_normal__select_standard=True;, score=0.932 total time=   3.0s\n",
      "[CV 2/3] END knn_clf__n_neighbors=8, knn_clf__weights=uniform, standard_or_normal__select_standard=True;, score=0.938 total time=   2.9s\n",
      "[CV 3/3] END knn_clf__n_neighbors=8, knn_clf__weights=uniform, standard_or_normal__select_standard=True;, score=0.939 total time=   3.0s\n",
      "[CV 1/3] END knn_clf__n_neighbors=8, knn_clf__weights=uniform, standard_or_normal__select_standard=False;, score=0.964 total time=   2.9s\n",
      "[CV 2/3] END knn_clf__n_neighbors=8, knn_clf__weights=uniform, standard_or_normal__select_standard=False;, score=0.964 total time=   2.7s\n",
      "[CV 3/3] END knn_clf__n_neighbors=8, knn_clf__weights=uniform, standard_or_normal__select_standard=False;, score=0.966 total time=   2.8s\n",
      "[CV 1/3] END knn_clf__n_neighbors=8, knn_clf__weights=distance, standard_or_normal__select_standard=True;, score=0.937 total time=   2.9s\n",
      "[CV 2/3] END knn_clf__n_neighbors=8, knn_clf__weights=distance, standard_or_normal__select_standard=True;, score=0.942 total time=   3.0s\n",
      "[CV 3/3] END knn_clf__n_neighbors=8, knn_clf__weights=distance, standard_or_normal__select_standard=True;, score=0.943 total time=   2.9s\n",
      "[CV 1/3] END knn_clf__n_neighbors=8, knn_clf__weights=distance, standard_or_normal__select_standard=False;, score=0.967 total time=   2.8s\n",
      "[CV 2/3] END knn_clf__n_neighbors=8, knn_clf__weights=distance, standard_or_normal__select_standard=False;, score=0.966 total time=   2.8s\n",
      "[CV 3/3] END knn_clf__n_neighbors=8, knn_clf__weights=distance, standard_or_normal__select_standard=False;, score=0.968 total time=   2.7s\n",
      "[CV 1/3] END knn_clf__n_neighbors=9, knn_clf__weights=uniform, standard_or_normal__select_standard=True;, score=0.932 total time=   2.9s\n",
      "[CV 2/3] END knn_clf__n_neighbors=9, knn_clf__weights=uniform, standard_or_normal__select_standard=True;, score=0.938 total time=   3.0s\n",
      "[CV 3/3] END knn_clf__n_neighbors=9, knn_clf__weights=uniform, standard_or_normal__select_standard=True;, score=0.938 total time=   3.0s\n",
      "[CV 1/3] END knn_clf__n_neighbors=9, knn_clf__weights=uniform, standard_or_normal__select_standard=False;, score=0.964 total time=   2.8s\n",
      "[CV 2/3] END knn_clf__n_neighbors=9, knn_clf__weights=uniform, standard_or_normal__select_standard=False;, score=0.963 total time=   2.8s\n",
      "[CV 3/3] END knn_clf__n_neighbors=9, knn_clf__weights=uniform, standard_or_normal__select_standard=False;, score=0.965 total time=   2.8s\n",
      "[CV 1/3] END knn_clf__n_neighbors=9, knn_clf__weights=distance, standard_or_normal__select_standard=True;, score=0.934 total time=   2.9s\n",
      "[CV 2/3] END knn_clf__n_neighbors=9, knn_clf__weights=distance, standard_or_normal__select_standard=True;, score=0.940 total time=   2.9s\n",
      "[CV 3/3] END knn_clf__n_neighbors=9, knn_clf__weights=distance, standard_or_normal__select_standard=True;, score=0.941 total time=   3.0s\n",
      "[CV 1/3] END knn_clf__n_neighbors=9, knn_clf__weights=distance, standard_or_normal__select_standard=False;, score=0.965 total time=   2.8s\n",
      "[CV 2/3] END knn_clf__n_neighbors=9, knn_clf__weights=distance, standard_or_normal__select_standard=False;, score=0.964 total time=   2.8s\n",
      "[CV 3/3] END knn_clf__n_neighbors=9, knn_clf__weights=distance, standard_or_normal__select_standard=False;, score=0.966 total time=   2.8s\n",
      "[CV 1/3] END knn_clf__n_neighbors=10, knn_clf__weights=uniform, standard_or_normal__select_standard=True;, score=0.932 total time=   3.0s\n",
      "[CV 2/3] END knn_clf__n_neighbors=10, knn_clf__weights=uniform, standard_or_normal__select_standard=True;, score=0.936 total time=   3.0s\n",
      "[CV 3/3] END knn_clf__n_neighbors=10, knn_clf__weights=uniform, standard_or_normal__select_standard=True;, score=0.937 total time=   3.0s\n",
      "[CV 1/3] END knn_clf__n_neighbors=10, knn_clf__weights=uniform, standard_or_normal__select_standard=False;, score=0.962 total time=   2.9s\n",
      "[CV 2/3] END knn_clf__n_neighbors=10, knn_clf__weights=uniform, standard_or_normal__select_standard=False;, score=0.962 total time=   2.8s\n",
      "[CV 3/3] END knn_clf__n_neighbors=10, knn_clf__weights=uniform, standard_or_normal__select_standard=False;, score=0.965 total time=   2.8s\n",
      "[CV 1/3] END knn_clf__n_neighbors=10, knn_clf__weights=distance, standard_or_normal__select_standard=True;, score=0.935 total time=   2.9s\n",
      "[CV 2/3] END knn_clf__n_neighbors=10, knn_clf__weights=distance, standard_or_normal__select_standard=True;, score=0.940 total time=   2.9s\n",
      "[CV 3/3] END knn_clf__n_neighbors=10, knn_clf__weights=distance, standard_or_normal__select_standard=True;, score=0.941 total time=   3.0s\n",
      "[CV 1/3] END knn_clf__n_neighbors=10, knn_clf__weights=distance, standard_or_normal__select_standard=False;, score=0.964 total time=   2.8s\n",
      "[CV 2/3] END knn_clf__n_neighbors=10, knn_clf__weights=distance, standard_or_normal__select_standard=False;, score=0.964 total time=   2.8s\n"
     ]
    },
    {
     "name": "stdout",
     "output_type": "stream",
     "text": [
      "[CV 3/3] END knn_clf__n_neighbors=10, knn_clf__weights=distance, standard_or_normal__select_standard=False;, score=0.966 total time=   2.9s\n"
     ]
    },
    {
     "data": {
      "text/html": [
       "<style>#sk-container-id-1 {color: black;}#sk-container-id-1 pre{padding: 0;}#sk-container-id-1 div.sk-toggleable {background-color: white;}#sk-container-id-1 label.sk-toggleable__label {cursor: pointer;display: block;width: 100%;margin-bottom: 0;padding: 0.3em;box-sizing: border-box;text-align: center;}#sk-container-id-1 label.sk-toggleable__label-arrow:before {content: \"▸\";float: left;margin-right: 0.25em;color: #696969;}#sk-container-id-1 label.sk-toggleable__label-arrow:hover:before {color: black;}#sk-container-id-1 div.sk-estimator:hover label.sk-toggleable__label-arrow:before {color: black;}#sk-container-id-1 div.sk-toggleable__content {max-height: 0;max-width: 0;overflow: hidden;text-align: left;background-color: #f0f8ff;}#sk-container-id-1 div.sk-toggleable__content pre {margin: 0.2em;color: black;border-radius: 0.25em;background-color: #f0f8ff;}#sk-container-id-1 input.sk-toggleable__control:checked~div.sk-toggleable__content {max-height: 200px;max-width: 100%;overflow: auto;}#sk-container-id-1 input.sk-toggleable__control:checked~label.sk-toggleable__label-arrow:before {content: \"▾\";}#sk-container-id-1 div.sk-estimator input.sk-toggleable__control:checked~label.sk-toggleable__label {background-color: #d4ebff;}#sk-container-id-1 div.sk-label input.sk-toggleable__control:checked~label.sk-toggleable__label {background-color: #d4ebff;}#sk-container-id-1 input.sk-hidden--visually {border: 0;clip: rect(1px 1px 1px 1px);clip: rect(1px, 1px, 1px, 1px);height: 1px;margin: -1px;overflow: hidden;padding: 0;position: absolute;width: 1px;}#sk-container-id-1 div.sk-estimator {font-family: monospace;background-color: #f0f8ff;border: 1px dotted black;border-radius: 0.25em;box-sizing: border-box;margin-bottom: 0.5em;}#sk-container-id-1 div.sk-estimator:hover {background-color: #d4ebff;}#sk-container-id-1 div.sk-parallel-item::after {content: \"\";width: 100%;border-bottom: 1px solid gray;flex-grow: 1;}#sk-container-id-1 div.sk-label:hover label.sk-toggleable__label {background-color: #d4ebff;}#sk-container-id-1 div.sk-serial::before {content: \"\";position: absolute;border-left: 1px solid gray;box-sizing: border-box;top: 0;bottom: 0;left: 50%;z-index: 0;}#sk-container-id-1 div.sk-serial {display: flex;flex-direction: column;align-items: center;background-color: white;padding-right: 0.2em;padding-left: 0.2em;position: relative;}#sk-container-id-1 div.sk-item {position: relative;z-index: 1;}#sk-container-id-1 div.sk-parallel {display: flex;align-items: stretch;justify-content: center;background-color: white;position: relative;}#sk-container-id-1 div.sk-item::before, #sk-container-id-1 div.sk-parallel-item::before {content: \"\";position: absolute;border-left: 1px solid gray;box-sizing: border-box;top: 0;bottom: 0;left: 50%;z-index: -1;}#sk-container-id-1 div.sk-parallel-item {display: flex;flex-direction: column;z-index: 1;position: relative;background-color: white;}#sk-container-id-1 div.sk-parallel-item:first-child::after {align-self: flex-end;width: 50%;}#sk-container-id-1 div.sk-parallel-item:last-child::after {align-self: flex-start;width: 50%;}#sk-container-id-1 div.sk-parallel-item:only-child::after {width: 0;}#sk-container-id-1 div.sk-dashed-wrapped {border: 1px dashed gray;margin: 0 0.4em 0.5em 0.4em;box-sizing: border-box;padding-bottom: 0.4em;background-color: white;}#sk-container-id-1 div.sk-label label {font-family: monospace;font-weight: bold;display: inline-block;line-height: 1.2em;}#sk-container-id-1 div.sk-label-container {text-align: center;}#sk-container-id-1 div.sk-container {/* jupyter's `normalize.less` sets `[hidden] { display: none; }` but bootstrap.min.css set `[hidden] { display: none !important; }` so we also need the `!important` here to be able to override the default hidden behavior on the sphinx rendered scikit-learn.org. See: https://github.com/scikit-learn/scikit-learn/issues/21755 */display: inline-block !important;position: relative;}#sk-container-id-1 div.sk-text-repr-fallback {display: none;}</style><div id=\"sk-container-id-1\" class=\"sk-top-container\"><div class=\"sk-text-repr-fallback\"><pre>GridSearchCV(cv=3,\n",
       "             estimator=Pipeline(steps=[(&#x27;standard_or_normal&#x27;,\n",
       "                                        standard_or_normal()),\n",
       "                                       (&#x27;knn_clf&#x27;, KNeighborsClassifier())]),\n",
       "             param_grid={&#x27;knn_clf__n_neighbors&#x27;: range(1, 11),\n",
       "                         &#x27;knn_clf__weights&#x27;: [&#x27;uniform&#x27;, &#x27;distance&#x27;],\n",
       "                         &#x27;standard_or_normal__select_standard&#x27;: [True, False]},\n",
       "             verbose=3)</pre><b>In a Jupyter environment, please rerun this cell to show the HTML representation or trust the notebook. <br />On GitHub, the HTML representation is unable to render, please try loading this page with nbviewer.org.</b></div><div class=\"sk-container\" hidden><div class=\"sk-item sk-dashed-wrapped\"><div class=\"sk-label-container\"><div class=\"sk-label sk-toggleable\"><input class=\"sk-toggleable__control sk-hidden--visually\" id=\"sk-estimator-id-1\" type=\"checkbox\" ><label for=\"sk-estimator-id-1\" class=\"sk-toggleable__label sk-toggleable__label-arrow\">GridSearchCV</label><div class=\"sk-toggleable__content\"><pre>GridSearchCV(cv=3,\n",
       "             estimator=Pipeline(steps=[(&#x27;standard_or_normal&#x27;,\n",
       "                                        standard_or_normal()),\n",
       "                                       (&#x27;knn_clf&#x27;, KNeighborsClassifier())]),\n",
       "             param_grid={&#x27;knn_clf__n_neighbors&#x27;: range(1, 11),\n",
       "                         &#x27;knn_clf__weights&#x27;: [&#x27;uniform&#x27;, &#x27;distance&#x27;],\n",
       "                         &#x27;standard_or_normal__select_standard&#x27;: [True, False]},\n",
       "             verbose=3)</pre></div></div></div><div class=\"sk-parallel\"><div class=\"sk-parallel-item\"><div class=\"sk-item\"><div class=\"sk-label-container\"><div class=\"sk-label sk-toggleable\"><input class=\"sk-toggleable__control sk-hidden--visually\" id=\"sk-estimator-id-2\" type=\"checkbox\" ><label for=\"sk-estimator-id-2\" class=\"sk-toggleable__label sk-toggleable__label-arrow\">estimator: Pipeline</label><div class=\"sk-toggleable__content\"><pre>Pipeline(steps=[(&#x27;standard_or_normal&#x27;, standard_or_normal()),\n",
       "                (&#x27;knn_clf&#x27;, KNeighborsClassifier())])</pre></div></div></div><div class=\"sk-serial\"><div class=\"sk-item\"><div class=\"sk-serial\"><div class=\"sk-item\"><div class=\"sk-estimator sk-toggleable\"><input class=\"sk-toggleable__control sk-hidden--visually\" id=\"sk-estimator-id-3\" type=\"checkbox\" ><label for=\"sk-estimator-id-3\" class=\"sk-toggleable__label sk-toggleable__label-arrow\">standard_or_normal</label><div class=\"sk-toggleable__content\"><pre>standard_or_normal()</pre></div></div></div><div class=\"sk-item\"><div class=\"sk-estimator sk-toggleable\"><input class=\"sk-toggleable__control sk-hidden--visually\" id=\"sk-estimator-id-4\" type=\"checkbox\" ><label for=\"sk-estimator-id-4\" class=\"sk-toggleable__label sk-toggleable__label-arrow\">KNeighborsClassifier</label><div class=\"sk-toggleable__content\"><pre>KNeighborsClassifier()</pre></div></div></div></div></div></div></div></div></div></div></div></div>"
      ],
      "text/plain": [
       "GridSearchCV(cv=3,\n",
       "             estimator=Pipeline(steps=[('standard_or_normal',\n",
       "                                        standard_or_normal()),\n",
       "                                       ('knn_clf', KNeighborsClassifier())]),\n",
       "             param_grid={'knn_clf__n_neighbors': range(1, 11),\n",
       "                         'knn_clf__weights': ['uniform', 'distance'],\n",
       "                         'standard_or_normal__select_standard': [True, False]},\n",
       "             verbose=3)"
      ]
     },
     "execution_count": 6,
     "metadata": {},
     "output_type": "execute_result"
    }
   ],
   "source": [
    "# 최적의 KNeighborsClassifier 랜덤 탐색\n",
    "\n",
    "param = {\n",
    "    'standard_or_normal__select_standard':[True, False],\n",
    "    'knn_clf__n_neighbors':range(1, 11),\n",
    "    'knn_clf__weights':['uniform', 'distance']\n",
    "}\n",
    "\n",
    "rs = GridSearchCV(pipeline, param_grid=param, cv=3, verbose=3)\n",
    "rs.fit(X_train, y_train)"
   ]
  },
  {
   "cell_type": "code",
   "execution_count": 7,
   "id": "14aaf014",
   "metadata": {},
   "outputs": [
    {
     "data": {
      "text/plain": [
       "{'knn_clf__n_neighbors': 4,\n",
       " 'knn_clf__weights': 'distance',\n",
       " 'standard_or_normal__select_standard': False}"
      ]
     },
     "execution_count": 7,
     "metadata": {},
     "output_type": "execute_result"
    }
   ],
   "source": [
    "rs.best_params_"
   ]
  },
  {
   "cell_type": "code",
   "execution_count": 8,
   "id": "c0666642",
   "metadata": {},
   "outputs": [
    {
     "name": "stdout",
     "output_type": "stream",
     "text": [
      "0.9714\n"
     ]
    }
   ],
   "source": [
    "final_model = rs.best_estimator_\n",
    "\n",
    "final_prediction = final_model.predict(X_test)\n",
    "\n",
    "accuracy = accuracy_score(y_test, final_prediction)\n",
    "print(accuracy)\n"
   ]
  },
  {
   "cell_type": "code",
   "execution_count": null,
   "id": "5f76182f",
   "metadata": {},
   "outputs": [],
   "source": []
  }
 ],
 "metadata": {
  "kernelspec": {
   "display_name": "Python 3 (ipykernel)",
   "language": "python",
   "name": "python3"
  },
  "language_info": {
   "codemirror_mode": {
    "name": "ipython",
    "version": 3
   },
   "file_extension": ".py",
   "mimetype": "text/x-python",
   "name": "python",
   "nbconvert_exporter": "python",
   "pygments_lexer": "ipython3",
   "version": "3.11.5"
  }
 },
 "nbformat": 4,
 "nbformat_minor": 5
}
