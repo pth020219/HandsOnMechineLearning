{
 "cells": [
  {
   "cell_type": "code",
   "execution_count": 3,
   "id": "f771969b-ffcf-41eb-ac89-50bef2583d10",
   "metadata": {},
   "outputs": [],
   "source": [
    "# 5.1 선형 SVM 분류"
   ]
  },
  {
   "cell_type": "code",
   "execution_count": 4,
   "id": "21a6b9ac-cbbc-4a07-afb0-91300d3529f8",
   "metadata": {},
   "outputs": [],
   "source": [
    "# 5.1.1 소프트 마진 분류\n",
    "# 도로의 폭을 가능한 한 넓게 유지하는 것과 마진 오류 사이에 적절한 균형을 잡아 분류하는 모델."
   ]
  },
  {
   "cell_type": "code",
   "execution_count": 5,
   "id": "9bfa1afa-47b7-41be-9a7e-4de844dcccc5",
   "metadata": {},
   "outputs": [
    {
     "data": {
      "text/html": [
       "<style>#sk-container-id-1 {color: black;background-color: white;}#sk-container-id-1 pre{padding: 0;}#sk-container-id-1 div.sk-toggleable {background-color: white;}#sk-container-id-1 label.sk-toggleable__label {cursor: pointer;display: block;width: 100%;margin-bottom: 0;padding: 0.3em;box-sizing: border-box;text-align: center;}#sk-container-id-1 label.sk-toggleable__label-arrow:before {content: \"▸\";float: left;margin-right: 0.25em;color: #696969;}#sk-container-id-1 label.sk-toggleable__label-arrow:hover:before {color: black;}#sk-container-id-1 div.sk-estimator:hover label.sk-toggleable__label-arrow:before {color: black;}#sk-container-id-1 div.sk-toggleable__content {max-height: 0;max-width: 0;overflow: hidden;text-align: left;background-color: #f0f8ff;}#sk-container-id-1 div.sk-toggleable__content pre {margin: 0.2em;color: black;border-radius: 0.25em;background-color: #f0f8ff;}#sk-container-id-1 input.sk-toggleable__control:checked~div.sk-toggleable__content {max-height: 200px;max-width: 100%;overflow: auto;}#sk-container-id-1 input.sk-toggleable__control:checked~label.sk-toggleable__label-arrow:before {content: \"▾\";}#sk-container-id-1 div.sk-estimator input.sk-toggleable__control:checked~label.sk-toggleable__label {background-color: #d4ebff;}#sk-container-id-1 div.sk-label input.sk-toggleable__control:checked~label.sk-toggleable__label {background-color: #d4ebff;}#sk-container-id-1 input.sk-hidden--visually {border: 0;clip: rect(1px 1px 1px 1px);clip: rect(1px, 1px, 1px, 1px);height: 1px;margin: -1px;overflow: hidden;padding: 0;position: absolute;width: 1px;}#sk-container-id-1 div.sk-estimator {font-family: monospace;background-color: #f0f8ff;border: 1px dotted black;border-radius: 0.25em;box-sizing: border-box;margin-bottom: 0.5em;}#sk-container-id-1 div.sk-estimator:hover {background-color: #d4ebff;}#sk-container-id-1 div.sk-parallel-item::after {content: \"\";width: 100%;border-bottom: 1px solid gray;flex-grow: 1;}#sk-container-id-1 div.sk-label:hover label.sk-toggleable__label {background-color: #d4ebff;}#sk-container-id-1 div.sk-serial::before {content: \"\";position: absolute;border-left: 1px solid gray;box-sizing: border-box;top: 0;bottom: 0;left: 50%;z-index: 0;}#sk-container-id-1 div.sk-serial {display: flex;flex-direction: column;align-items: center;background-color: white;padding-right: 0.2em;padding-left: 0.2em;position: relative;}#sk-container-id-1 div.sk-item {position: relative;z-index: 1;}#sk-container-id-1 div.sk-parallel {display: flex;align-items: stretch;justify-content: center;background-color: white;position: relative;}#sk-container-id-1 div.sk-item::before, #sk-container-id-1 div.sk-parallel-item::before {content: \"\";position: absolute;border-left: 1px solid gray;box-sizing: border-box;top: 0;bottom: 0;left: 50%;z-index: -1;}#sk-container-id-1 div.sk-parallel-item {display: flex;flex-direction: column;z-index: 1;position: relative;background-color: white;}#sk-container-id-1 div.sk-parallel-item:first-child::after {align-self: flex-end;width: 50%;}#sk-container-id-1 div.sk-parallel-item:last-child::after {align-self: flex-start;width: 50%;}#sk-container-id-1 div.sk-parallel-item:only-child::after {width: 0;}#sk-container-id-1 div.sk-dashed-wrapped {border: 1px dashed gray;margin: 0 0.4em 0.5em 0.4em;box-sizing: border-box;padding-bottom: 0.4em;background-color: white;}#sk-container-id-1 div.sk-label label {font-family: monospace;font-weight: bold;display: inline-block;line-height: 1.2em;}#sk-container-id-1 div.sk-label-container {text-align: center;}#sk-container-id-1 div.sk-container {/* jupyter's `normalize.less` sets `[hidden] { display: none; }` but bootstrap.min.css set `[hidden] { display: none !important; }` so we also need the `!important` here to be able to override the default hidden behavior on the sphinx rendered scikit-learn.org. See: https://github.com/scikit-learn/scikit-learn/issues/21755 */display: inline-block !important;position: relative;}#sk-container-id-1 div.sk-text-repr-fallback {display: none;}</style><div id=\"sk-container-id-1\" class=\"sk-top-container\"><div class=\"sk-text-repr-fallback\"><pre>Pipeline(steps=[(&#x27;scaler&#x27;, StandardScaler()),\n",
       "                (&#x27;linear_svc&#x27;, LinearSVC(C=1, loss=&#x27;hinge&#x27;))])</pre><b>In a Jupyter environment, please rerun this cell to show the HTML representation or trust the notebook. <br />On GitHub, the HTML representation is unable to render, please try loading this page with nbviewer.org.</b></div><div class=\"sk-container\" hidden><div class=\"sk-item sk-dashed-wrapped\"><div class=\"sk-label-container\"><div class=\"sk-label sk-toggleable\"><input class=\"sk-toggleable__control sk-hidden--visually\" id=\"sk-estimator-id-1\" type=\"checkbox\" ><label for=\"sk-estimator-id-1\" class=\"sk-toggleable__label sk-toggleable__label-arrow\">Pipeline</label><div class=\"sk-toggleable__content\"><pre>Pipeline(steps=[(&#x27;scaler&#x27;, StandardScaler()),\n",
       "                (&#x27;linear_svc&#x27;, LinearSVC(C=1, loss=&#x27;hinge&#x27;))])</pre></div></div></div><div class=\"sk-serial\"><div class=\"sk-item\"><div class=\"sk-estimator sk-toggleable\"><input class=\"sk-toggleable__control sk-hidden--visually\" id=\"sk-estimator-id-2\" type=\"checkbox\" ><label for=\"sk-estimator-id-2\" class=\"sk-toggleable__label sk-toggleable__label-arrow\">StandardScaler</label><div class=\"sk-toggleable__content\"><pre>StandardScaler()</pre></div></div></div><div class=\"sk-item\"><div class=\"sk-estimator sk-toggleable\"><input class=\"sk-toggleable__control sk-hidden--visually\" id=\"sk-estimator-id-3\" type=\"checkbox\" ><label for=\"sk-estimator-id-3\" class=\"sk-toggleable__label sk-toggleable__label-arrow\">LinearSVC</label><div class=\"sk-toggleable__content\"><pre>LinearSVC(C=1, loss=&#x27;hinge&#x27;)</pre></div></div></div></div></div></div></div>"
      ],
      "text/plain": [
       "Pipeline(steps=[('scaler', StandardScaler()),\n",
       "                ('linear_svc', LinearSVC(C=1, loss='hinge'))])"
      ]
     },
     "execution_count": 5,
     "metadata": {},
     "output_type": "execute_result"
    }
   ],
   "source": [
    "import numpy as np\n",
    "from sklearn import datasets\n",
    "from sklearn.pipeline import Pipeline\n",
    "from sklearn.preprocessing import StandardScaler\n",
    "from sklearn.svm import LinearSVC\n",
    "\n",
    "iris = datasets.load_iris()\n",
    "X = iris[\"data\"][:, (2, 3)]\n",
    "y = (iris[\"target\"] == 2).astype(np.float64)\n",
    "\n",
    "svm_clf = Pipeline([\n",
    "    (\"scaler\", StandardScaler()),\n",
    "    (\"linear_svc\", LinearSVC(C=1, loss=\"hinge\"))\n",
    "])\n",
    "\n",
    "svm_clf.fit(X, y)"
   ]
  },
  {
   "cell_type": "code",
   "execution_count": 6,
   "id": "3b4008fe-3f75-436d-bf60-9f0b31d1f67d",
   "metadata": {},
   "outputs": [
    {
     "data": {
      "text/plain": [
       "array([1.])"
      ]
     },
     "execution_count": 6,
     "metadata": {},
     "output_type": "execute_result"
    }
   ],
   "source": [
    "svm_clf.predict([[5.5, 1.7]])"
   ]
  },
  {
   "cell_type": "code",
   "execution_count": 7,
   "id": "62e9b9be-7cf3-4d1e-b3f0-035dae3966d8",
   "metadata": {},
   "outputs": [],
   "source": [
    "# 5.2 비선형 SVM 분류"
   ]
  },
  {
   "cell_type": "code",
   "execution_count": 8,
   "id": "71f69a8b-3ebe-4157-b82e-d0013b6e58e0",
   "metadata": {},
   "outputs": [
    {
     "data": {
      "text/html": [
       "<style>#sk-container-id-2 {color: black;background-color: white;}#sk-container-id-2 pre{padding: 0;}#sk-container-id-2 div.sk-toggleable {background-color: white;}#sk-container-id-2 label.sk-toggleable__label {cursor: pointer;display: block;width: 100%;margin-bottom: 0;padding: 0.3em;box-sizing: border-box;text-align: center;}#sk-container-id-2 label.sk-toggleable__label-arrow:before {content: \"▸\";float: left;margin-right: 0.25em;color: #696969;}#sk-container-id-2 label.sk-toggleable__label-arrow:hover:before {color: black;}#sk-container-id-2 div.sk-estimator:hover label.sk-toggleable__label-arrow:before {color: black;}#sk-container-id-2 div.sk-toggleable__content {max-height: 0;max-width: 0;overflow: hidden;text-align: left;background-color: #f0f8ff;}#sk-container-id-2 div.sk-toggleable__content pre {margin: 0.2em;color: black;border-radius: 0.25em;background-color: #f0f8ff;}#sk-container-id-2 input.sk-toggleable__control:checked~div.sk-toggleable__content {max-height: 200px;max-width: 100%;overflow: auto;}#sk-container-id-2 input.sk-toggleable__control:checked~label.sk-toggleable__label-arrow:before {content: \"▾\";}#sk-container-id-2 div.sk-estimator input.sk-toggleable__control:checked~label.sk-toggleable__label {background-color: #d4ebff;}#sk-container-id-2 div.sk-label input.sk-toggleable__control:checked~label.sk-toggleable__label {background-color: #d4ebff;}#sk-container-id-2 input.sk-hidden--visually {border: 0;clip: rect(1px 1px 1px 1px);clip: rect(1px, 1px, 1px, 1px);height: 1px;margin: -1px;overflow: hidden;padding: 0;position: absolute;width: 1px;}#sk-container-id-2 div.sk-estimator {font-family: monospace;background-color: #f0f8ff;border: 1px dotted black;border-radius: 0.25em;box-sizing: border-box;margin-bottom: 0.5em;}#sk-container-id-2 div.sk-estimator:hover {background-color: #d4ebff;}#sk-container-id-2 div.sk-parallel-item::after {content: \"\";width: 100%;border-bottom: 1px solid gray;flex-grow: 1;}#sk-container-id-2 div.sk-label:hover label.sk-toggleable__label {background-color: #d4ebff;}#sk-container-id-2 div.sk-serial::before {content: \"\";position: absolute;border-left: 1px solid gray;box-sizing: border-box;top: 0;bottom: 0;left: 50%;z-index: 0;}#sk-container-id-2 div.sk-serial {display: flex;flex-direction: column;align-items: center;background-color: white;padding-right: 0.2em;padding-left: 0.2em;position: relative;}#sk-container-id-2 div.sk-item {position: relative;z-index: 1;}#sk-container-id-2 div.sk-parallel {display: flex;align-items: stretch;justify-content: center;background-color: white;position: relative;}#sk-container-id-2 div.sk-item::before, #sk-container-id-2 div.sk-parallel-item::before {content: \"\";position: absolute;border-left: 1px solid gray;box-sizing: border-box;top: 0;bottom: 0;left: 50%;z-index: -1;}#sk-container-id-2 div.sk-parallel-item {display: flex;flex-direction: column;z-index: 1;position: relative;background-color: white;}#sk-container-id-2 div.sk-parallel-item:first-child::after {align-self: flex-end;width: 50%;}#sk-container-id-2 div.sk-parallel-item:last-child::after {align-self: flex-start;width: 50%;}#sk-container-id-2 div.sk-parallel-item:only-child::after {width: 0;}#sk-container-id-2 div.sk-dashed-wrapped {border: 1px dashed gray;margin: 0 0.4em 0.5em 0.4em;box-sizing: border-box;padding-bottom: 0.4em;background-color: white;}#sk-container-id-2 div.sk-label label {font-family: monospace;font-weight: bold;display: inline-block;line-height: 1.2em;}#sk-container-id-2 div.sk-label-container {text-align: center;}#sk-container-id-2 div.sk-container {/* jupyter's `normalize.less` sets `[hidden] { display: none; }` but bootstrap.min.css set `[hidden] { display: none !important; }` so we also need the `!important` here to be able to override the default hidden behavior on the sphinx rendered scikit-learn.org. See: https://github.com/scikit-learn/scikit-learn/issues/21755 */display: inline-block !important;position: relative;}#sk-container-id-2 div.sk-text-repr-fallback {display: none;}</style><div id=\"sk-container-id-2\" class=\"sk-top-container\"><div class=\"sk-text-repr-fallback\"><pre>Pipeline(steps=[(&#x27;poly_features&#x27;, PolynomialFeatures(degree=3)),\n",
       "                (&#x27;scaler&#x27;, StandardScaler()),\n",
       "                (&#x27;linear_svc&#x27;, LinearSVC(C=1, loss=&#x27;hinge&#x27;))])</pre><b>In a Jupyter environment, please rerun this cell to show the HTML representation or trust the notebook. <br />On GitHub, the HTML representation is unable to render, please try loading this page with nbviewer.org.</b></div><div class=\"sk-container\" hidden><div class=\"sk-item sk-dashed-wrapped\"><div class=\"sk-label-container\"><div class=\"sk-label sk-toggleable\"><input class=\"sk-toggleable__control sk-hidden--visually\" id=\"sk-estimator-id-4\" type=\"checkbox\" ><label for=\"sk-estimator-id-4\" class=\"sk-toggleable__label sk-toggleable__label-arrow\">Pipeline</label><div class=\"sk-toggleable__content\"><pre>Pipeline(steps=[(&#x27;poly_features&#x27;, PolynomialFeatures(degree=3)),\n",
       "                (&#x27;scaler&#x27;, StandardScaler()),\n",
       "                (&#x27;linear_svc&#x27;, LinearSVC(C=1, loss=&#x27;hinge&#x27;))])</pre></div></div></div><div class=\"sk-serial\"><div class=\"sk-item\"><div class=\"sk-estimator sk-toggleable\"><input class=\"sk-toggleable__control sk-hidden--visually\" id=\"sk-estimator-id-5\" type=\"checkbox\" ><label for=\"sk-estimator-id-5\" class=\"sk-toggleable__label sk-toggleable__label-arrow\">PolynomialFeatures</label><div class=\"sk-toggleable__content\"><pre>PolynomialFeatures(degree=3)</pre></div></div></div><div class=\"sk-item\"><div class=\"sk-estimator sk-toggleable\"><input class=\"sk-toggleable__control sk-hidden--visually\" id=\"sk-estimator-id-6\" type=\"checkbox\" ><label for=\"sk-estimator-id-6\" class=\"sk-toggleable__label sk-toggleable__label-arrow\">StandardScaler</label><div class=\"sk-toggleable__content\"><pre>StandardScaler()</pre></div></div></div><div class=\"sk-item\"><div class=\"sk-estimator sk-toggleable\"><input class=\"sk-toggleable__control sk-hidden--visually\" id=\"sk-estimator-id-7\" type=\"checkbox\" ><label for=\"sk-estimator-id-7\" class=\"sk-toggleable__label sk-toggleable__label-arrow\">LinearSVC</label><div class=\"sk-toggleable__content\"><pre>LinearSVC(C=1, loss=&#x27;hinge&#x27;)</pre></div></div></div></div></div></div></div>"
      ],
      "text/plain": [
       "Pipeline(steps=[('poly_features', PolynomialFeatures(degree=3)),\n",
       "                ('scaler', StandardScaler()),\n",
       "                ('linear_svc', LinearSVC(C=1, loss='hinge'))])"
      ]
     },
     "execution_count": 8,
     "metadata": {},
     "output_type": "execute_result"
    }
   ],
   "source": [
    "# 선형 커널을 사용하는 LinearSVC 클래스\n",
    "\n",
    "from sklearn.datasets import make_moons\n",
    "from sklearn.pipeline import Pipeline\n",
    "from sklearn.preprocessing import PolynomialFeatures\n",
    "\n",
    "X, y = make_moons(n_samples=100, noise=0.15)\n",
    "polynomal_svm_clf = Pipeline([\n",
    "    (\"poly_features\", PolynomialFeatures(degree=3)),\n",
    "    (\"scaler\", StandardScaler()),\n",
    "    (\"linear_svc\", LinearSVC(C=1, loss=\"hinge\"))\n",
    "])\n",
    "\n",
    "polynomal_svm_clf.fit(X, y)"
   ]
  },
  {
   "cell_type": "code",
   "execution_count": 9,
   "id": "359648e2-2c3a-4132-aa6e-045d8861d66b",
   "metadata": {},
   "outputs": [
    {
     "data": {
      "text/html": [
       "<style>#sk-container-id-3 {color: black;background-color: white;}#sk-container-id-3 pre{padding: 0;}#sk-container-id-3 div.sk-toggleable {background-color: white;}#sk-container-id-3 label.sk-toggleable__label {cursor: pointer;display: block;width: 100%;margin-bottom: 0;padding: 0.3em;box-sizing: border-box;text-align: center;}#sk-container-id-3 label.sk-toggleable__label-arrow:before {content: \"▸\";float: left;margin-right: 0.25em;color: #696969;}#sk-container-id-3 label.sk-toggleable__label-arrow:hover:before {color: black;}#sk-container-id-3 div.sk-estimator:hover label.sk-toggleable__label-arrow:before {color: black;}#sk-container-id-3 div.sk-toggleable__content {max-height: 0;max-width: 0;overflow: hidden;text-align: left;background-color: #f0f8ff;}#sk-container-id-3 div.sk-toggleable__content pre {margin: 0.2em;color: black;border-radius: 0.25em;background-color: #f0f8ff;}#sk-container-id-3 input.sk-toggleable__control:checked~div.sk-toggleable__content {max-height: 200px;max-width: 100%;overflow: auto;}#sk-container-id-3 input.sk-toggleable__control:checked~label.sk-toggleable__label-arrow:before {content: \"▾\";}#sk-container-id-3 div.sk-estimator input.sk-toggleable__control:checked~label.sk-toggleable__label {background-color: #d4ebff;}#sk-container-id-3 div.sk-label input.sk-toggleable__control:checked~label.sk-toggleable__label {background-color: #d4ebff;}#sk-container-id-3 input.sk-hidden--visually {border: 0;clip: rect(1px 1px 1px 1px);clip: rect(1px, 1px, 1px, 1px);height: 1px;margin: -1px;overflow: hidden;padding: 0;position: absolute;width: 1px;}#sk-container-id-3 div.sk-estimator {font-family: monospace;background-color: #f0f8ff;border: 1px dotted black;border-radius: 0.25em;box-sizing: border-box;margin-bottom: 0.5em;}#sk-container-id-3 div.sk-estimator:hover {background-color: #d4ebff;}#sk-container-id-3 div.sk-parallel-item::after {content: \"\";width: 100%;border-bottom: 1px solid gray;flex-grow: 1;}#sk-container-id-3 div.sk-label:hover label.sk-toggleable__label {background-color: #d4ebff;}#sk-container-id-3 div.sk-serial::before {content: \"\";position: absolute;border-left: 1px solid gray;box-sizing: border-box;top: 0;bottom: 0;left: 50%;z-index: 0;}#sk-container-id-3 div.sk-serial {display: flex;flex-direction: column;align-items: center;background-color: white;padding-right: 0.2em;padding-left: 0.2em;position: relative;}#sk-container-id-3 div.sk-item {position: relative;z-index: 1;}#sk-container-id-3 div.sk-parallel {display: flex;align-items: stretch;justify-content: center;background-color: white;position: relative;}#sk-container-id-3 div.sk-item::before, #sk-container-id-3 div.sk-parallel-item::before {content: \"\";position: absolute;border-left: 1px solid gray;box-sizing: border-box;top: 0;bottom: 0;left: 50%;z-index: -1;}#sk-container-id-3 div.sk-parallel-item {display: flex;flex-direction: column;z-index: 1;position: relative;background-color: white;}#sk-container-id-3 div.sk-parallel-item:first-child::after {align-self: flex-end;width: 50%;}#sk-container-id-3 div.sk-parallel-item:last-child::after {align-self: flex-start;width: 50%;}#sk-container-id-3 div.sk-parallel-item:only-child::after {width: 0;}#sk-container-id-3 div.sk-dashed-wrapped {border: 1px dashed gray;margin: 0 0.4em 0.5em 0.4em;box-sizing: border-box;padding-bottom: 0.4em;background-color: white;}#sk-container-id-3 div.sk-label label {font-family: monospace;font-weight: bold;display: inline-block;line-height: 1.2em;}#sk-container-id-3 div.sk-label-container {text-align: center;}#sk-container-id-3 div.sk-container {/* jupyter's `normalize.less` sets `[hidden] { display: none; }` but bootstrap.min.css set `[hidden] { display: none !important; }` so we also need the `!important` here to be able to override the default hidden behavior on the sphinx rendered scikit-learn.org. See: https://github.com/scikit-learn/scikit-learn/issues/21755 */display: inline-block !important;position: relative;}#sk-container-id-3 div.sk-text-repr-fallback {display: none;}</style><div id=\"sk-container-id-3\" class=\"sk-top-container\"><div class=\"sk-text-repr-fallback\"><pre>Pipeline(steps=[(&#x27;scaler&#x27;, StandardScaler()),\n",
       "                (&#x27;svm_clf&#x27;, SVC(C=5, coef0=1, kernel=&#x27;poly&#x27;))])</pre><b>In a Jupyter environment, please rerun this cell to show the HTML representation or trust the notebook. <br />On GitHub, the HTML representation is unable to render, please try loading this page with nbviewer.org.</b></div><div class=\"sk-container\" hidden><div class=\"sk-item sk-dashed-wrapped\"><div class=\"sk-label-container\"><div class=\"sk-label sk-toggleable\"><input class=\"sk-toggleable__control sk-hidden--visually\" id=\"sk-estimator-id-8\" type=\"checkbox\" ><label for=\"sk-estimator-id-8\" class=\"sk-toggleable__label sk-toggleable__label-arrow\">Pipeline</label><div class=\"sk-toggleable__content\"><pre>Pipeline(steps=[(&#x27;scaler&#x27;, StandardScaler()),\n",
       "                (&#x27;svm_clf&#x27;, SVC(C=5, coef0=1, kernel=&#x27;poly&#x27;))])</pre></div></div></div><div class=\"sk-serial\"><div class=\"sk-item\"><div class=\"sk-estimator sk-toggleable\"><input class=\"sk-toggleable__control sk-hidden--visually\" id=\"sk-estimator-id-9\" type=\"checkbox\" ><label for=\"sk-estimator-id-9\" class=\"sk-toggleable__label sk-toggleable__label-arrow\">StandardScaler</label><div class=\"sk-toggleable__content\"><pre>StandardScaler()</pre></div></div></div><div class=\"sk-item\"><div class=\"sk-estimator sk-toggleable\"><input class=\"sk-toggleable__control sk-hidden--visually\" id=\"sk-estimator-id-10\" type=\"checkbox\" ><label for=\"sk-estimator-id-10\" class=\"sk-toggleable__label sk-toggleable__label-arrow\">SVC</label><div class=\"sk-toggleable__content\"><pre>SVC(C=5, coef0=1, kernel=&#x27;poly&#x27;)</pre></div></div></div></div></div></div></div>"
      ],
      "text/plain": [
       "Pipeline(steps=[('scaler', StandardScaler()),\n",
       "                ('svm_clf', SVC(C=5, coef0=1, kernel='poly'))])"
      ]
     },
     "execution_count": 9,
     "metadata": {},
     "output_type": "execute_result"
    }
   ],
   "source": [
    "# 다항 커널을 사용하는 SVM 분류기 (커널 트릭을 사용하여)\n",
    "\n",
    "from sklearn.svm import SVC\n",
    "\n",
    "poly_kernel_svm_clf = Pipeline([\n",
    "    (\"scaler\", StandardScaler()),\n",
    "    (\"svm_clf\", SVC(kernel=\"poly\", degree=3, coef0=1, C=5))\n",
    "])\n",
    "\n",
    "poly_kernel_svm_clf.fit(X, y)"
   ]
  },
  {
   "cell_type": "code",
   "execution_count": 10,
   "id": "185b6591-43de-4d84-85c1-988298761bd9",
   "metadata": {},
   "outputs": [],
   "source": [
    "# 5.2.2 유사도 특성"
   ]
  },
  {
   "cell_type": "code",
   "execution_count": 11,
   "id": "21715d9b-7dab-435b-98b2-02bb559ec6ea",
   "metadata": {},
   "outputs": [],
   "source": [
    "# 식 5-1 가우시안 RBF\n",
    "\n",
    "# l 은 랜드마크 지점."
   ]
  },
  {
   "cell_type": "markdown",
   "id": "39b75de3-3dfa-4fa1-8444-04836cfb4927",
   "metadata": {},
   "source": [
    "$\\phi_r (\\mathbf x, l) = exp(-\\gamma {\\lVert {\\mathbf x - l} \\rVert}^2)$"
   ]
  },
  {
   "cell_type": "code",
   "execution_count": 12,
   "id": "451e856b-739a-4b97-988e-cee7ad71ba91",
   "metadata": {},
   "outputs": [],
   "source": [
    "# 5.2.3 가우시안 RBF 커널"
   ]
  },
  {
   "cell_type": "code",
   "execution_count": 13,
   "id": "38e9bebd-2052-4b78-a0a2-ac19f357bec2",
   "metadata": {},
   "outputs": [
    {
     "data": {
      "text/html": [
       "<style>#sk-container-id-4 {color: black;background-color: white;}#sk-container-id-4 pre{padding: 0;}#sk-container-id-4 div.sk-toggleable {background-color: white;}#sk-container-id-4 label.sk-toggleable__label {cursor: pointer;display: block;width: 100%;margin-bottom: 0;padding: 0.3em;box-sizing: border-box;text-align: center;}#sk-container-id-4 label.sk-toggleable__label-arrow:before {content: \"▸\";float: left;margin-right: 0.25em;color: #696969;}#sk-container-id-4 label.sk-toggleable__label-arrow:hover:before {color: black;}#sk-container-id-4 div.sk-estimator:hover label.sk-toggleable__label-arrow:before {color: black;}#sk-container-id-4 div.sk-toggleable__content {max-height: 0;max-width: 0;overflow: hidden;text-align: left;background-color: #f0f8ff;}#sk-container-id-4 div.sk-toggleable__content pre {margin: 0.2em;color: black;border-radius: 0.25em;background-color: #f0f8ff;}#sk-container-id-4 input.sk-toggleable__control:checked~div.sk-toggleable__content {max-height: 200px;max-width: 100%;overflow: auto;}#sk-container-id-4 input.sk-toggleable__control:checked~label.sk-toggleable__label-arrow:before {content: \"▾\";}#sk-container-id-4 div.sk-estimator input.sk-toggleable__control:checked~label.sk-toggleable__label {background-color: #d4ebff;}#sk-container-id-4 div.sk-label input.sk-toggleable__control:checked~label.sk-toggleable__label {background-color: #d4ebff;}#sk-container-id-4 input.sk-hidden--visually {border: 0;clip: rect(1px 1px 1px 1px);clip: rect(1px, 1px, 1px, 1px);height: 1px;margin: -1px;overflow: hidden;padding: 0;position: absolute;width: 1px;}#sk-container-id-4 div.sk-estimator {font-family: monospace;background-color: #f0f8ff;border: 1px dotted black;border-radius: 0.25em;box-sizing: border-box;margin-bottom: 0.5em;}#sk-container-id-4 div.sk-estimator:hover {background-color: #d4ebff;}#sk-container-id-4 div.sk-parallel-item::after {content: \"\";width: 100%;border-bottom: 1px solid gray;flex-grow: 1;}#sk-container-id-4 div.sk-label:hover label.sk-toggleable__label {background-color: #d4ebff;}#sk-container-id-4 div.sk-serial::before {content: \"\";position: absolute;border-left: 1px solid gray;box-sizing: border-box;top: 0;bottom: 0;left: 50%;z-index: 0;}#sk-container-id-4 div.sk-serial {display: flex;flex-direction: column;align-items: center;background-color: white;padding-right: 0.2em;padding-left: 0.2em;position: relative;}#sk-container-id-4 div.sk-item {position: relative;z-index: 1;}#sk-container-id-4 div.sk-parallel {display: flex;align-items: stretch;justify-content: center;background-color: white;position: relative;}#sk-container-id-4 div.sk-item::before, #sk-container-id-4 div.sk-parallel-item::before {content: \"\";position: absolute;border-left: 1px solid gray;box-sizing: border-box;top: 0;bottom: 0;left: 50%;z-index: -1;}#sk-container-id-4 div.sk-parallel-item {display: flex;flex-direction: column;z-index: 1;position: relative;background-color: white;}#sk-container-id-4 div.sk-parallel-item:first-child::after {align-self: flex-end;width: 50%;}#sk-container-id-4 div.sk-parallel-item:last-child::after {align-self: flex-start;width: 50%;}#sk-container-id-4 div.sk-parallel-item:only-child::after {width: 0;}#sk-container-id-4 div.sk-dashed-wrapped {border: 1px dashed gray;margin: 0 0.4em 0.5em 0.4em;box-sizing: border-box;padding-bottom: 0.4em;background-color: white;}#sk-container-id-4 div.sk-label label {font-family: monospace;font-weight: bold;display: inline-block;line-height: 1.2em;}#sk-container-id-4 div.sk-label-container {text-align: center;}#sk-container-id-4 div.sk-container {/* jupyter's `normalize.less` sets `[hidden] { display: none; }` but bootstrap.min.css set `[hidden] { display: none !important; }` so we also need the `!important` here to be able to override the default hidden behavior on the sphinx rendered scikit-learn.org. See: https://github.com/scikit-learn/scikit-learn/issues/21755 */display: inline-block !important;position: relative;}#sk-container-id-4 div.sk-text-repr-fallback {display: none;}</style><div id=\"sk-container-id-4\" class=\"sk-top-container\"><div class=\"sk-text-repr-fallback\"><pre>Pipeline(steps=[(&#x27;scaler&#x27;, StandardScaler()),\n",
       "                (&#x27;svm_clf&#x27;, SVC(C=0.001, gamma=5))])</pre><b>In a Jupyter environment, please rerun this cell to show the HTML representation or trust the notebook. <br />On GitHub, the HTML representation is unable to render, please try loading this page with nbviewer.org.</b></div><div class=\"sk-container\" hidden><div class=\"sk-item sk-dashed-wrapped\"><div class=\"sk-label-container\"><div class=\"sk-label sk-toggleable\"><input class=\"sk-toggleable__control sk-hidden--visually\" id=\"sk-estimator-id-11\" type=\"checkbox\" ><label for=\"sk-estimator-id-11\" class=\"sk-toggleable__label sk-toggleable__label-arrow\">Pipeline</label><div class=\"sk-toggleable__content\"><pre>Pipeline(steps=[(&#x27;scaler&#x27;, StandardScaler()),\n",
       "                (&#x27;svm_clf&#x27;, SVC(C=0.001, gamma=5))])</pre></div></div></div><div class=\"sk-serial\"><div class=\"sk-item\"><div class=\"sk-estimator sk-toggleable\"><input class=\"sk-toggleable__control sk-hidden--visually\" id=\"sk-estimator-id-12\" type=\"checkbox\" ><label for=\"sk-estimator-id-12\" class=\"sk-toggleable__label sk-toggleable__label-arrow\">StandardScaler</label><div class=\"sk-toggleable__content\"><pre>StandardScaler()</pre></div></div></div><div class=\"sk-item\"><div class=\"sk-estimator sk-toggleable\"><input class=\"sk-toggleable__control sk-hidden--visually\" id=\"sk-estimator-id-13\" type=\"checkbox\" ><label for=\"sk-estimator-id-13\" class=\"sk-toggleable__label sk-toggleable__label-arrow\">SVC</label><div class=\"sk-toggleable__content\"><pre>SVC(C=0.001, gamma=5)</pre></div></div></div></div></div></div></div>"
      ],
      "text/plain": [
       "Pipeline(steps=[('scaler', StandardScaler()),\n",
       "                ('svm_clf', SVC(C=0.001, gamma=5))])"
      ]
     },
     "execution_count": 13,
     "metadata": {},
     "output_type": "execute_result"
    }
   ],
   "source": [
    "# 가우시안 RBF 커널을 사용하는 SVM 분류기 (역시 커널 트릭을 사용하여)\n",
    "\n",
    "rbf_kernel_svm_clf = Pipeline([\n",
    "    (\"scaler\", StandardScaler()),\n",
    "    (\"svm_clf\", SVC(kernel=\"rbf\", gamma=5, C=0.001))\n",
    "])\n",
    "\n",
    "rbf_kernel_svm_clf.fit(X, y)"
   ]
  },
  {
   "cell_type": "code",
   "execution_count": 14,
   "id": "92d6b76c-b5ae-4e0d-97b6-e196db5f9e83",
   "metadata": {},
   "outputs": [],
   "source": [
    "# 5.2.4 계산 복잡도\n",
    "\n",
    "# LinearSVC - 커널 트릭 지원 x, O(n * m)\n",
    "# SVC - 커널 트릭 지원 O, O(m^2 * n) ~ O(m^3 * n). 특성의 개수는 희소특성의 경우에 잘 확장 됨. 즉, 성능이 샘플이 가진 0이 아닌 특성의 평균 수에 거의 비례."
   ]
  },
  {
   "cell_type": "code",
   "execution_count": 15,
   "id": "b914c731-85ac-48f6-8abb-92597d01c623",
   "metadata": {},
   "outputs": [],
   "source": [
    "# 5.3 SVM 회귀"
   ]
  },
  {
   "cell_type": "code",
   "execution_count": 16,
   "id": "cfa12561-9e89-402f-8275-ff8ddc491a60",
   "metadata": {},
   "outputs": [],
   "source": [
    "# 일정한 마진 오류 안에서 두 클래스 간의 도로 폭이 가능한 한 최대가 되도록 하는 대신, 제한된 마진 오류 안에서 도로 안에 가능한 한 많은 샘플이 들어가도록 학습."
   ]
  },
  {
   "cell_type": "code",
   "execution_count": 18,
   "id": "172aa1da-2906-4fed-b587-7a17abb6dff7",
   "metadata": {},
   "outputs": [
    {
     "data": {
      "text/html": [
       "<style>#sk-container-id-6 {color: black;background-color: white;}#sk-container-id-6 pre{padding: 0;}#sk-container-id-6 div.sk-toggleable {background-color: white;}#sk-container-id-6 label.sk-toggleable__label {cursor: pointer;display: block;width: 100%;margin-bottom: 0;padding: 0.3em;box-sizing: border-box;text-align: center;}#sk-container-id-6 label.sk-toggleable__label-arrow:before {content: \"▸\";float: left;margin-right: 0.25em;color: #696969;}#sk-container-id-6 label.sk-toggleable__label-arrow:hover:before {color: black;}#sk-container-id-6 div.sk-estimator:hover label.sk-toggleable__label-arrow:before {color: black;}#sk-container-id-6 div.sk-toggleable__content {max-height: 0;max-width: 0;overflow: hidden;text-align: left;background-color: #f0f8ff;}#sk-container-id-6 div.sk-toggleable__content pre {margin: 0.2em;color: black;border-radius: 0.25em;background-color: #f0f8ff;}#sk-container-id-6 input.sk-toggleable__control:checked~div.sk-toggleable__content {max-height: 200px;max-width: 100%;overflow: auto;}#sk-container-id-6 input.sk-toggleable__control:checked~label.sk-toggleable__label-arrow:before {content: \"▾\";}#sk-container-id-6 div.sk-estimator input.sk-toggleable__control:checked~label.sk-toggleable__label {background-color: #d4ebff;}#sk-container-id-6 div.sk-label input.sk-toggleable__control:checked~label.sk-toggleable__label {background-color: #d4ebff;}#sk-container-id-6 input.sk-hidden--visually {border: 0;clip: rect(1px 1px 1px 1px);clip: rect(1px, 1px, 1px, 1px);height: 1px;margin: -1px;overflow: hidden;padding: 0;position: absolute;width: 1px;}#sk-container-id-6 div.sk-estimator {font-family: monospace;background-color: #f0f8ff;border: 1px dotted black;border-radius: 0.25em;box-sizing: border-box;margin-bottom: 0.5em;}#sk-container-id-6 div.sk-estimator:hover {background-color: #d4ebff;}#sk-container-id-6 div.sk-parallel-item::after {content: \"\";width: 100%;border-bottom: 1px solid gray;flex-grow: 1;}#sk-container-id-6 div.sk-label:hover label.sk-toggleable__label {background-color: #d4ebff;}#sk-container-id-6 div.sk-serial::before {content: \"\";position: absolute;border-left: 1px solid gray;box-sizing: border-box;top: 0;bottom: 0;left: 50%;z-index: 0;}#sk-container-id-6 div.sk-serial {display: flex;flex-direction: column;align-items: center;background-color: white;padding-right: 0.2em;padding-left: 0.2em;position: relative;}#sk-container-id-6 div.sk-item {position: relative;z-index: 1;}#sk-container-id-6 div.sk-parallel {display: flex;align-items: stretch;justify-content: center;background-color: white;position: relative;}#sk-container-id-6 div.sk-item::before, #sk-container-id-6 div.sk-parallel-item::before {content: \"\";position: absolute;border-left: 1px solid gray;box-sizing: border-box;top: 0;bottom: 0;left: 50%;z-index: -1;}#sk-container-id-6 div.sk-parallel-item {display: flex;flex-direction: column;z-index: 1;position: relative;background-color: white;}#sk-container-id-6 div.sk-parallel-item:first-child::after {align-self: flex-end;width: 50%;}#sk-container-id-6 div.sk-parallel-item:last-child::after {align-self: flex-start;width: 50%;}#sk-container-id-6 div.sk-parallel-item:only-child::after {width: 0;}#sk-container-id-6 div.sk-dashed-wrapped {border: 1px dashed gray;margin: 0 0.4em 0.5em 0.4em;box-sizing: border-box;padding-bottom: 0.4em;background-color: white;}#sk-container-id-6 div.sk-label label {font-family: monospace;font-weight: bold;display: inline-block;line-height: 1.2em;}#sk-container-id-6 div.sk-label-container {text-align: center;}#sk-container-id-6 div.sk-container {/* jupyter's `normalize.less` sets `[hidden] { display: none; }` but bootstrap.min.css set `[hidden] { display: none !important; }` so we also need the `!important` here to be able to override the default hidden behavior on the sphinx rendered scikit-learn.org. See: https://github.com/scikit-learn/scikit-learn/issues/21755 */display: inline-block !important;position: relative;}#sk-container-id-6 div.sk-text-repr-fallback {display: none;}</style><div id=\"sk-container-id-6\" class=\"sk-top-container\"><div class=\"sk-text-repr-fallback\"><pre>LinearSVR(epsilon=1.5)</pre><b>In a Jupyter environment, please rerun this cell to show the HTML representation or trust the notebook. <br />On GitHub, the HTML representation is unable to render, please try loading this page with nbviewer.org.</b></div><div class=\"sk-container\" hidden><div class=\"sk-item\"><div class=\"sk-estimator sk-toggleable\"><input class=\"sk-toggleable__control sk-hidden--visually\" id=\"sk-estimator-id-15\" type=\"checkbox\" checked><label for=\"sk-estimator-id-15\" class=\"sk-toggleable__label sk-toggleable__label-arrow\">LinearSVR</label><div class=\"sk-toggleable__content\"><pre>LinearSVR(epsilon=1.5)</pre></div></div></div></div></div>"
      ],
      "text/plain": [
       "LinearSVR(epsilon=1.5)"
      ]
     },
     "execution_count": 18,
     "metadata": {},
     "output_type": "execute_result"
    }
   ],
   "source": [
    "# 선형 SVM 회귀\n",
    "from sklearn.svm import LinearSVR\n",
    "\n",
    "svm_reg = LinearSVR(epsilon=1.5)\n",
    "svm_reg.fit(X, y)"
   ]
  },
  {
   "cell_type": "code",
   "execution_count": 20,
   "id": "31361c0c-05b3-4d33-8afc-e1fa89f17def",
   "metadata": {},
   "outputs": [
    {
     "data": {
      "text/html": [
       "<style>#sk-container-id-7 {color: black;background-color: white;}#sk-container-id-7 pre{padding: 0;}#sk-container-id-7 div.sk-toggleable {background-color: white;}#sk-container-id-7 label.sk-toggleable__label {cursor: pointer;display: block;width: 100%;margin-bottom: 0;padding: 0.3em;box-sizing: border-box;text-align: center;}#sk-container-id-7 label.sk-toggleable__label-arrow:before {content: \"▸\";float: left;margin-right: 0.25em;color: #696969;}#sk-container-id-7 label.sk-toggleable__label-arrow:hover:before {color: black;}#sk-container-id-7 div.sk-estimator:hover label.sk-toggleable__label-arrow:before {color: black;}#sk-container-id-7 div.sk-toggleable__content {max-height: 0;max-width: 0;overflow: hidden;text-align: left;background-color: #f0f8ff;}#sk-container-id-7 div.sk-toggleable__content pre {margin: 0.2em;color: black;border-radius: 0.25em;background-color: #f0f8ff;}#sk-container-id-7 input.sk-toggleable__control:checked~div.sk-toggleable__content {max-height: 200px;max-width: 100%;overflow: auto;}#sk-container-id-7 input.sk-toggleable__control:checked~label.sk-toggleable__label-arrow:before {content: \"▾\";}#sk-container-id-7 div.sk-estimator input.sk-toggleable__control:checked~label.sk-toggleable__label {background-color: #d4ebff;}#sk-container-id-7 div.sk-label input.sk-toggleable__control:checked~label.sk-toggleable__label {background-color: #d4ebff;}#sk-container-id-7 input.sk-hidden--visually {border: 0;clip: rect(1px 1px 1px 1px);clip: rect(1px, 1px, 1px, 1px);height: 1px;margin: -1px;overflow: hidden;padding: 0;position: absolute;width: 1px;}#sk-container-id-7 div.sk-estimator {font-family: monospace;background-color: #f0f8ff;border: 1px dotted black;border-radius: 0.25em;box-sizing: border-box;margin-bottom: 0.5em;}#sk-container-id-7 div.sk-estimator:hover {background-color: #d4ebff;}#sk-container-id-7 div.sk-parallel-item::after {content: \"\";width: 100%;border-bottom: 1px solid gray;flex-grow: 1;}#sk-container-id-7 div.sk-label:hover label.sk-toggleable__label {background-color: #d4ebff;}#sk-container-id-7 div.sk-serial::before {content: \"\";position: absolute;border-left: 1px solid gray;box-sizing: border-box;top: 0;bottom: 0;left: 50%;z-index: 0;}#sk-container-id-7 div.sk-serial {display: flex;flex-direction: column;align-items: center;background-color: white;padding-right: 0.2em;padding-left: 0.2em;position: relative;}#sk-container-id-7 div.sk-item {position: relative;z-index: 1;}#sk-container-id-7 div.sk-parallel {display: flex;align-items: stretch;justify-content: center;background-color: white;position: relative;}#sk-container-id-7 div.sk-item::before, #sk-container-id-7 div.sk-parallel-item::before {content: \"\";position: absolute;border-left: 1px solid gray;box-sizing: border-box;top: 0;bottom: 0;left: 50%;z-index: -1;}#sk-container-id-7 div.sk-parallel-item {display: flex;flex-direction: column;z-index: 1;position: relative;background-color: white;}#sk-container-id-7 div.sk-parallel-item:first-child::after {align-self: flex-end;width: 50%;}#sk-container-id-7 div.sk-parallel-item:last-child::after {align-self: flex-start;width: 50%;}#sk-container-id-7 div.sk-parallel-item:only-child::after {width: 0;}#sk-container-id-7 div.sk-dashed-wrapped {border: 1px dashed gray;margin: 0 0.4em 0.5em 0.4em;box-sizing: border-box;padding-bottom: 0.4em;background-color: white;}#sk-container-id-7 div.sk-label label {font-family: monospace;font-weight: bold;display: inline-block;line-height: 1.2em;}#sk-container-id-7 div.sk-label-container {text-align: center;}#sk-container-id-7 div.sk-container {/* jupyter's `normalize.less` sets `[hidden] { display: none; }` but bootstrap.min.css set `[hidden] { display: none !important; }` so we also need the `!important` here to be able to override the default hidden behavior on the sphinx rendered scikit-learn.org. See: https://github.com/scikit-learn/scikit-learn/issues/21755 */display: inline-block !important;position: relative;}#sk-container-id-7 div.sk-text-repr-fallback {display: none;}</style><div id=\"sk-container-id-7\" class=\"sk-top-container\"><div class=\"sk-text-repr-fallback\"><pre>SVR(C=100, degree=2, kernel=&#x27;poly&#x27;)</pre><b>In a Jupyter environment, please rerun this cell to show the HTML representation or trust the notebook. <br />On GitHub, the HTML representation is unable to render, please try loading this page with nbviewer.org.</b></div><div class=\"sk-container\" hidden><div class=\"sk-item\"><div class=\"sk-estimator sk-toggleable\"><input class=\"sk-toggleable__control sk-hidden--visually\" id=\"sk-estimator-id-16\" type=\"checkbox\" checked><label for=\"sk-estimator-id-16\" class=\"sk-toggleable__label sk-toggleable__label-arrow\">SVR</label><div class=\"sk-toggleable__content\"><pre>SVR(C=100, degree=2, kernel=&#x27;poly&#x27;)</pre></div></div></div></div></div>"
      ],
      "text/plain": [
       "SVR(C=100, degree=2, kernel='poly')"
      ]
     },
     "execution_count": 20,
     "metadata": {},
     "output_type": "execute_result"
    }
   ],
   "source": [
    "# 비선형 SVM 회귀\n",
    "from sklearn.svm import SVR\n",
    "\n",
    "svm_poly_reg = SVR(kernel=\"poly\", degree=2, C=100, epsilon=0.1)\n",
    "svm_poly_reg.fit(X, y)\n"
   ]
  },
  {
   "cell_type": "code",
   "execution_count": 21,
   "id": "96e56b71-21bd-47e2-8079-5bf31cfdb152",
   "metadata": {},
   "outputs": [],
   "source": [
    "# 5.4 SVM 이론"
   ]
  },
  {
   "cell_type": "code",
   "execution_count": 22,
   "id": "2e16cde1-62bf-4e82-b00c-a08335562006",
   "metadata": {},
   "outputs": [],
   "source": [
    "# 5.4.1 결정 함수와 예측"
   ]
  },
  {
   "cell_type": "code",
   "execution_count": 23,
   "id": "5d4f4ab6-3ba5-438c-820d-c4c8e1db01c4",
   "metadata": {},
   "outputs": [],
   "source": [
    "# 식 5-2 선형 SVM 분류기의 예측"
   ]
  },
  {
   "cell_type": "markdown",
   "id": "e5808596-3cc5-4619-87af-9c25aa95074b",
   "metadata": {},
   "source": [
    "$\\hat {y} = \n",
    "\\begin{cases} \n",
    "    0, & if \\quad w^Tx + b < 0 \\newline \n",
    "    1, & if \\quad w^Tx + b \\ge 0\n",
    "\\end{cases}$"
   ]
  },
  {
   "cell_type": "code",
   "execution_count": 26,
   "id": "6bfc17c7-038d-495e-8f18-55de40bc7b62",
   "metadata": {},
   "outputs": [],
   "source": [
    "# 5.4.2 목적 함수"
   ]
  },
  {
   "cell_type": "code",
   "execution_count": 27,
   "id": "017acf5e-37c4-4509-8c04-ebcc86096055",
   "metadata": {},
   "outputs": [],
   "source": [
    "# 가중치 벡터 w가 작을 수록 마진은 커진다. "
   ]
  },
  {
   "cell_type": "code",
   "execution_count": 28,
   "id": "84ffc120-5f01-4740-9caf-254ef87664b3",
   "metadata": {},
   "outputs": [],
   "source": [
    "# 식 5-3 하드 마진 선형 SVM 분류기의 목적 함수"
   ]
  },
  {
   "cell_type": "markdown",
   "id": "d6c69482-c0a0-482a-a159-4abd8fc76506",
   "metadata": {},
   "source": [
    "$$\\begin{align} \n",
    "& \\underset {w, b} {minimize} \\; {1 \\over 2} \\mathbf {w}^T \\mathbf {w} \\\\\n",
    "& condition : when \\; i = 1, 2, \\dots, m, \\quad t^{(i)}(\\mathbf {w}^T \\mathbf {x}^{(i)} + b) \\ge 1\n",
    "\\end{align}$$"
   ]
  },
  {
   "cell_type": "code",
   "execution_count": 29,
   "id": "89e1d5af-9237-40bf-9724-7976b086c6be",
   "metadata": {},
   "outputs": [],
   "source": [
    "# 식 5-4 소프트 마진 선형 SVM 분류기의 목적 함수"
   ]
  },
  {
   "cell_type": "markdown",
   "id": "ca36b98f-ce57-4c84-9c00-03ec9cf93bd1",
   "metadata": {},
   "source": [
    "$$\\begin{align} \n",
    "& \\underset {w, b, \\zeta} {minimize} \\; {1 \\over 2} \\mathbf {w}^T \\mathbf {w} + C \\sum_{i=1}^m \\zeta^{(i)}\\\\\n",
    "& condition : when \\; i = 1, 2, \\dots, m, \\quad t^{(i)}(\\mathbf {w}^T \\mathbf {x}^{(i)} + b) \\ge 1 - \\zeta^{(i)} \\quad and \\quad \\zeta^{(i)} \\ge 0\n",
    "\\end{align}$$"
   ]
  },
  {
   "cell_type": "code",
   "execution_count": 31,
   "id": "5fe63ff1-e9fa-4877-aefa-3fecba5cc8d7",
   "metadata": {},
   "outputs": [],
   "source": [
    "# 5.4.3 콰드라틱 프로그래밍\n",
    "\n",
    "# 하드 마진과 소프트 마진 문제는 모두 선형적인 제약 조건이 있는 볼록 함수의 이차 최적화 문제.\n",
    "# 이런 문제를 QP, 쿼드라틱 프로그래밍 문제라고 함."
   ]
  },
  {
   "cell_type": "code",
   "execution_count": 32,
   "id": "19a3c858-1926-40f5-828e-d5c507d0a6f5",
   "metadata": {},
   "outputs": [],
   "source": [
    "# 식 5-5 QP 문제"
   ]
  },
  {
   "cell_type": "markdown",
   "id": "45aee25e-189f-4644-a3ff-883949e91918",
   "metadata": {},
   "source": [
    "$$\\begin{align} \n",
    "& \\underset {\\mathbf p} {minimize} \\; {1 \\over 2} \\mathbf {p}^T \\mathbf {H} \\mathbf {p} + \\mathbf {f}^T \\mathbf {p}\\\\\n",
    "& condition : \\; \\mathbf {A} \\mathbf {p} \\le \\mathbf {b}\\\\\n",
    "& 여기서 \n",
    "\\begin{cases} \n",
    "    \\mathbf {p} 는 \\; n_p 차원의 \\; 벡터 (n_p = 모델 \\; 파리미터 \\; 수) \\\\ \n",
    "    \\mathbf {H} 는 \\; n_p \\times n_p \\; 크기 \\; 행렬 \\\\\n",
    "    \\mathbf {f} 는 \\; n_p 차원의 \\; 벡터 \\\\\n",
    "    \\mathbf {A} 는 \\; n_c \\times n_p \\; 크기 \\; 행렬 (n_c = 제약 \\; 수) \\\\\n",
    "    \\mathbf {b} 는 \\; n_c 차원의 \\; 벡터\n",
    "\\end{cases} \n",
    "\\end{align}$$"
   ]
  },
  {
   "cell_type": "code",
   "execution_count": 33,
   "id": "5a094985-e927-4ba0-b0ac-06d073b6db2c",
   "metadata": {},
   "outputs": [],
   "source": [
    "# 하드 마진을 갖는 선형 SVM 분류기의 목적 함수 검증\n",
    "\n",
    "# n_p = n + 1. n 은 특성 수 (편향 때문에 +1이 추가되었음.)\n",
    "# n_c = m. m 은 훈련 샘플 수\n",
    "# H 는 n_p * n+p 크기이고, 왼쪽 맨 위의 원소가 0 (편향을 제외하기 위해)인 것을 제외하고는 단위 행렬.\n",
    "# f = 0. 모두 0으로 채워진 n_p 차원의 벡터\n",
    "# b = 1. 모두 1으로 채워진 n_c 차원의 벡터\n",
    "# a^(i) = -t^(i) * dot x^(i). 여기서 dot x^(i)는 편향을 위해 특성 dot x_0 = 1를 추가한 x^(i) 와 같다.\n",
    "\n",
    "# 결과 벡터 p는 편향 b=p_0와 특성 가중치 w_i=p_i 를 담고 있다."
   ]
  },
  {
   "cell_type": "code",
   "execution_count": 35,
   "id": "d4b54679-a217-48ce-a97b-3f900a1441e0",
   "metadata": {},
   "outputs": [],
   "source": [
    "# 5.4.4 쌍대 문제\n",
    "\n",
    "# 원 문제(primal problem)라는 제약이 있는 최적화 문제가 주어지면 쌍대 문제(dual problem)라고 하는, 깊게 관련된 다른 문제로 표현 가능.\n",
    "# 일반적으로 쌍대 문제 해는 원 문제 해의 하한값이지만, 어떤 조건하에서는 원 문제와 똑같은 해를 제공. SVM 문제는 이 조건을 만족."
   ]
  },
  {
   "cell_type": "code",
   "execution_count": 36,
   "id": "a03b1758-b1bc-41e6-8bc0-d54b4d1aa450",
   "metadata": {},
   "outputs": [],
   "source": [
    "# 식 5-6 선형 SVM 목적 함수의 쌍대 형식"
   ]
  },
  {
   "cell_type": "markdown",
   "id": "984f7f8d-b504-4d9a-bd44-8a5c0b884307",
   "metadata": {},
   "source": [
    "$$\\begin{align} \n",
    "& \\underset {\\mathbf \\alpha} {minimize} \\; {1 \\over 2} \\sum_{i=1}^m \\sum_{j=1}^m \\alpha^{(i)} \\alpha^{(j)} t^{(i)} t^{(j)}\n",
    "{\\mathbf {x}^{(i)}}^T \\mathbf {x}^{(j)} - \\sum_{i=1}^m \\alpha^{(i)}\\\\\n",
    "& condition : \\quad when \\quad i = 1, 2, \\dots, m, \\quad \\alpha^{(i)} \\ge 0\n",
    "\\end{align}$$"
   ]
  },
  {
   "cell_type": "code",
   "execution_count": 37,
   "id": "b38f3a9d-e3f2-4b76-af9d-ce65a024e692",
   "metadata": {},
   "outputs": [],
   "source": [
    "# 식 5-7 쌍대 문제에서 구한 해로 원 문제의 해 계산하기"
   ]
  },
  {
   "cell_type": "markdown",
   "id": "a50d0e06-4328-4ed7-a70c-37c6b9e3a110",
   "metadata": {},
   "source": [
    "$$\\begin{align} \n",
    "& \\hat {w} = \\sum_{i=1}^m \\hat {\\alpha}^{(i)} t^{(i)} \\mathbf {x}^{(i)}  \\\\\n",
    "& \\hat {b} = {1 \\over n_s} \\underset {\\hat {\\alpha}^{(i)} > 0} {\\sum_{i=1}^m} (t^{(i)} - \\hat {w}^T \\mathbf {x}^{(i)})\n",
    "\\end{align}$$"
   ]
  },
  {
   "cell_type": "code",
   "execution_count": 38,
   "id": "d02b605a-e1e2-496b-bd40-875b67aa3765",
   "metadata": {},
   "outputs": [],
   "source": [
    "# 훈련 샘플 수가 특성 개수보다 작을 때 원 문제보다 쌍대 문제를 푸는 것이 더 빠르다.\n",
    "# 또한 원 문제에서 적용이 안되는 커널 트릭을 가능하게 한다."
   ]
  },
  {
   "cell_type": "code",
   "execution_count": 39,
   "id": "262659ab-1710-4b85-84cd-8f5a0cf91da7",
   "metadata": {},
   "outputs": [],
   "source": [
    "# 5.4.5 커널 SVM"
   ]
  },
  {
   "cell_type": "code",
   "execution_count": 40,
   "id": "42834bf5-faef-4b78-aba5-4f59f474c1a9",
   "metadata": {},
   "outputs": [],
   "source": [
    "# 2차원 데이터셋에 2차 다항식 변환을 적용하고, 선형 SVM 분류기를 변환된 이 훈련 세트에 적용한다고 하자."
   ]
  },
  {
   "cell_type": "code",
   "execution_count": 41,
   "id": "4917af4b-b349-4342-bc0c-b1c8b89c5345",
   "metadata": {},
   "outputs": [],
   "source": [
    "# 식 5-8. 2차 다항식 매핑"
   ]
  },
  {
   "cell_type": "markdown",
   "id": "05697e4f-e200-46cb-a752-bdfd0317aacc",
   "metadata": {},
   "source": [
    "$\\phi(\\mathbf {x}) = \\phi({x_1 \\choose x_2}) =\n",
    "\\begin{pmatrix} x_1^2 \\\\ \\sqrt {2} x_1 x_2 \\\\ x_2^2 \\end{pmatrix}\n",
    "$"
   ]
  },
  {
   "cell_type": "code",
   "execution_count": 42,
   "id": "9832325d-bbc7-4e40-a4bf-66dfe024bdeb",
   "metadata": {},
   "outputs": [],
   "source": [
    "# 변환된 벡터는 2차원이 아니고 3차원이 된다. 두 개의 2차원 벡터 a, b에 2차 다항식 매핑을 적용하고, 변환된 벡터로 점곱을 한다."
   ]
  },
  {
   "cell_type": "code",
   "execution_count": 43,
   "id": "83557688-78cb-49db-9e41-5f918bd65cea",
   "metadata": {},
   "outputs": [],
   "source": [
    "# 식 5-9 2차 다항식 매핑을 위한 커널 트릭"
   ]
  },
  {
   "cell_type": "markdown",
   "id": "855ef74f-84f5-437a-bd22-3a90f978fdca",
   "metadata": {},
   "source": [
    "$\\phi(\\mathbf {a})^T \\phi(\\mathbf {b}) = \n",
    "{\\begin{pmatrix} a_1^2 \\\\ \\sqrt {2} a_1 a_2 \\\\ a_2^2 \\end{pmatrix}}^T \\begin{pmatrix} b_1^2 \\\\ \\sqrt {2} b_1 b_2 \\\\ b_2^2 \\end{pmatrix} =\n",
    "a_1^2 b_1^2 + 2a_1b_1a_2b_2 + a_2^2 b_2^2 =\n",
    "(a_1b_1 + a_2b_2)^2 = \n",
    "({a_1 \\choose a_2}^T {b_1 \\choose b_2})^2 =\n",
    "(\\mathbf {a}^T \\mathbf {b})^2\n",
    "$"
   ]
  },
  {
   "cell_type": "code",
   "execution_count": 44,
   "id": "b47562c3-20a4-4cdc-87cd-e12b7ac603cf",
   "metadata": {},
   "outputs": [],
   "source": [
    "# 결괏값을 구하기 위해 훈련 샘플을 어렵게 변환해서 선형 SVM 알고리즘을 적용하는 것과 위 식처럼 점곱을 제곱으로 바꾸는 것과 결과는 같다.\n",
    "# 이렇게 계산량의 측면에서 훨씬 효율적으로 만들어 주는 기법이 커널 트릭이다."
   ]
  },
  {
   "cell_type": "code",
   "execution_count": 45,
   "id": "e9522e85-de28-4e57-9450-f3341cbc82c1",
   "metadata": {},
   "outputs": [],
   "source": [
    "# 머신러닝에서 커널은 변환 phi를 계산하지 않고 원래 벡터 a, b에 기반하여 점곱을 계산할 수 있는 함수이다. "
   ]
  },
  {
   "cell_type": "code",
   "execution_count": 46,
   "id": "7ecbcde4-450f-4102-96d2-69a4d3a21bd2",
   "metadata": {},
   "outputs": [],
   "source": [
    "# 식 5-10. 일반적인 커널"
   ]
  },
  {
   "cell_type": "markdown",
   "id": "5bd2f4b2-0495-4d89-b3bb-88d0d52a228e",
   "metadata": {},
   "source": [
    "$\\begin{align} \n",
    "& linear: \\quad K(a, b) = a^T b \\\\\n",
    "& poly: \\quad K(a, b) = (\\gamma a^T b + r)^d \\\\\n",
    "& gaussian \\; RBF: \\quad K(a, b) = exp(-\\gamma {\\parallel a - b \\parallel}^2) \\\\\n",
    "& sigmoid: \\quad K(a, b) = tanh(\\gamma a^T b + r)\n",
    "\\end{align}$"
   ]
  },
  {
   "cell_type": "code",
   "execution_count": 48,
   "id": "a262a34e-c7ef-4a8b-a28c-f9fba3b47aa6",
   "metadata": {},
   "outputs": [],
   "source": [
    "# 식 5-7은 선형 SVM 분류기일 경우 쌍대 문제를 풀어서 원 문제를 해결하는 방법을 알려준다.\n",
    "# 그러나 커널 트릭을 사용하면 예측 식에서 phi(x^(i))를 포함해야 한다.\n",
    "# 결국 hat {w}의 차원이 매우 크거나 무한한 phi(x^(i))와 같아져야 하므로, 이를 계산할 수 없다.\n",
    "# 그럼에도 hat {w}를 모르는 채로 예측을 만들 수 있다.\n",
    "\n",
    "# 식 5-7의 hat {w} 에 대한 식을 새로운 샘플 x^(n) 의 결정 함수에 적용해서 입력 벡터 간의 점곱으로만 된 식을 얻을 수 있다.\n",
    "# 따라서 커널 트릭을 사용할 수 있고, 식 5-11이 된다."
   ]
  },
  {
   "cell_type": "code",
   "execution_count": 49,
   "id": "22901b83-2e6e-4029-943e-2f131e4f747c",
   "metadata": {},
   "outputs": [],
   "source": [
    "# 식 5-11 커널 SVM으로 예측하기"
   ]
  },
  {
   "cell_type": "markdown",
   "id": "d0346ede-1fae-4b25-bbb9-59d73980523b",
   "metadata": {},
   "source": [
    "$\\begin{align} \n",
    "& h_{\\hat {w} \\hat{b}} (\\phi(x^{(n)})) = \n",
    "\\hat {w}^T \\phi(x^{(n)}) + \\hat {b} = \n",
    "(\\sum_{i=1}^m \\hat {\\alpha}^{(i)} t^{(i)} \\phi(x^{(i)}))^T \\phi(x^{(n)}) + \\hat {b} \\\\\n",
    "& = \\sum_{i=1}^m \\hat {\\alpha}^{(i)} t^{(i)} (\\phi(x^{(i)})^T \\phi(x^{(n)})) + \\hat {b} \\\\\n",
    "& = \\underset {\\hat {\\alpha}^{(i)} > 0} {\\sum_{i=1}^m} \\hat {\\alpha}^{(i)} t^{(i)} K(x^{(i)}, x^{(n)}) + \\hat {b}\n",
    "\\end{align}$"
   ]
  },
  {
   "cell_type": "code",
   "execution_count": 51,
   "id": "6dd32360-bb88-46ca-a0b9-1f8e73b73278",
   "metadata": {},
   "outputs": [],
   "source": [
    "# 서포트 벡터만 alpha^(i) != 0 이기 때문에, 예측을 만드는 데는 전체 샘플이 아니라 서포트 벡터와 새 입력 백터 x^(n) 간의 점곱만 계산하면 됨."
   ]
  },
  {
   "cell_type": "code",
   "execution_count": 50,
   "id": "30867489-f42c-4a2a-82c0-e459b8100247",
   "metadata": {},
   "outputs": [],
   "source": [
    "# 식 5-12 커널 트릭을 사용한 편향 계산"
   ]
  },
  {
   "cell_type": "markdown",
   "id": "4df1905c-1358-454c-8b2e-ecb56e3d3002",
   "metadata": {},
   "source": [
    "$\\begin{align} \n",
    "& \\hat {b} = \n",
    "{1 \\over n_s} \\underset {\\hat {\\alpha}^{(i)} > 0} {\\sum_{i=1}^m} (t^{(i)} - \\hat {w}^T \\phi(x^{(i)})) =\n",
    "{1 \\over n_s} \\underset {\\hat {\\alpha}^{(i)} > 0} {\\sum_{i=1}^m} (t^{(i)} - (\\sum_{j=1}^m \\hat {\\alpha}^{(j)} t^{(j)} \\phi(x^{(j)}))^T \\phi(x^{(i)})) \\\\\n",
    "& = {1 \\over n_s} \\underset {\\hat {\\alpha}^{(i)} > 0} {\\sum_{i=1}^m} (t^{(i)} - \\underset {\\hat {\\alpha}^{(j)} > 0} {\\sum_{j=1}^m} \\hat {\\alpha}^{(j)} t^{(j)} K(x^{(i)}, x^{(j)}))\n",
    "\\end{align}$"
   ]
  },
  {
   "cell_type": "code",
   "execution_count": 52,
   "id": "24e7957d-9956-492a-9b87-1ab16b4c0ad5",
   "metadata": {},
   "outputs": [],
   "source": [
    "# 5.4.6 온라인 SVM"
   ]
  },
  {
   "cell_type": "code",
   "execution_count": 53,
   "id": "dded4364-60b8-4273-b144-ca7fe60303f5",
   "metadata": {},
   "outputs": [],
   "source": [
    "# 온라인 학습은 새로운 샘플이 생겼을 때 점진적으로 학습하는 것을 말한다.\n",
    "\n",
    "# 온라인 SVM 분류기를 구현하는 한 가지 방법은, 원 문제로부터 유도된 식 5-13의 비용함수를 최소화 하기 위한 경사 하강법을 사용하는 것.\n",
    "# 경사하강법은 QP 기반의 방법보다 훨씬 느리게 수렴한다."
   ]
  },
  {
   "cell_type": "code",
   "execution_count": 54,
   "id": "667bb0a4-d390-421b-9742-791d708d65d9",
   "metadata": {},
   "outputs": [],
   "source": [
    "# 식 5-13. 선형 SVM 분류기 비용 함수"
   ]
  },
  {
   "cell_type": "markdown",
   "id": "f579f41b-6d28-4296-85fe-e6cd6afa7530",
   "metadata": {},
   "source": [
    "$J(w, b) =\n",
    "{1 \\over 2} w^T w + C \\sum_{i=1}^m max(0, 1 - t^{(i)} (w^T x^{(i)} + b)) $"
   ]
  },
  {
   "cell_type": "code",
   "execution_count": null,
   "id": "82223255-fea3-4dcc-b0a8-87d7f63f7acb",
   "metadata": {},
   "outputs": [],
   "source": []
  }
 ],
 "metadata": {
  "kernelspec": {
   "display_name": "Python 3 (ipykernel)",
   "language": "python",
   "name": "python3"
  },
  "language_info": {
   "codemirror_mode": {
    "name": "ipython",
    "version": 3
   },
   "file_extension": ".py",
   "mimetype": "text/x-python",
   "name": "python",
   "nbconvert_exporter": "python",
   "pygments_lexer": "ipython3",
   "version": "3.11.7"
  }
 },
 "nbformat": 4,
 "nbformat_minor": 5
}
