{
 "cells": [
  {
   "cell_type": "code",
   "execution_count": 1,
   "id": "faed4023-6a3f-4994-a891-5e25a9a63280",
   "metadata": {},
   "outputs": [],
   "source": [
    "# 연습문제 1번 : 서포트 벡터 머신의 근본 아이디어는 무엇인가요?\n",
    "\n",
    "# 클래스 사이에 가장 큰(넓은) 도로를 찾고, 그 중간 라인을 결정 경계로 하는 것."
   ]
  },
  {
   "cell_type": "code",
   "execution_count": 2,
   "id": "e88f9046-162a-4dec-b084-41f206be6e68",
   "metadata": {},
   "outputs": [],
   "source": [
    "# 연습문제 2번 : 서포트 벡터가 무엇인가요?\n",
    "\n",
    "# 도로의 넓이, 즉 마진을 결정 짓는 샘플을 의미한다. 마진은 도로 경계에 있는 서포트 벡터에 의해 결정된다."
   ]
  },
  {
   "cell_type": "code",
   "execution_count": 3,
   "id": "1c5481de-9055-4f0a-a315-54691ba87f45",
   "metadata": {},
   "outputs": [],
   "source": [
    "# 연습문제 3번 : SVM을 사용할 때 입력값의 스케일이 왜 중요한가요?\n",
    "\n",
    "# SVM은 입력 특성의 스케일에 민감하다. 입력 특성의 종류가 2개이고, 하나가 다른 하나에 비해 매우 스케일이 크다고 가정해보자.\n",
    "# 이 상태에서 SVM을 통해 결정경계를 결정짓게 되면, 스케일이 큰 특성에 편향되어 결정경계가 만들어 지고, 나머지 하나의 특성은 결정경계를 만드는데\n",
    "# 거의 영향을 주지 못할 것이다. 결국 분류나 회귀에 있어서 두 특성을 동일하게 반영하지 못한다."
   ]
  },
  {
   "cell_type": "code",
   "execution_count": 4,
   "id": "0a8a25f9-2077-4c29-9b63-2a28de210185",
   "metadata": {},
   "outputs": [],
   "source": [
    "# 연습문제 4번 : SVM 분류기가 샘플을 분류할 때 신뢰도 점수와 확률을 출력할 수 있나요?\n",
    "\n",
    "# 사이킷런에서 LinearSVC 는 확률을 제공하지 않는다. SVC는 매개변수 probability=True 를 지정하면 확률을 제공한다."
   ]
  },
  {
   "cell_type": "code",
   "execution_count": 5,
   "id": "6c1103be-9b48-4a8b-bb15-601a2915d365",
   "metadata": {},
   "outputs": [],
   "source": [
    "# 연습문제 5번 : 수백만 개의 샘플과 수백 개의 특성을 가진 훈련 세트에 SVM 모델을 훈련시키려면 원 문제와 쌍대 문제중 어느 것을 사용해야 하나요?\n",
    "\n",
    "# 훈련 샘플 수가 특성 개수 보다 작을 때 원 문제 보다 쌍대 문제를 푸는 것이 더 빠르다. 문제의 케이스의 경우에는\n",
    "# 샘플의 수가 특성 수보다 월등히 많으므로, 원 문제를 사용하는 것이 바람직하다."
   ]
  },
  {
   "cell_type": "code",
   "execution_count": 6,
   "id": "b80060be-971d-48e8-945b-be247251c94a",
   "metadata": {},
   "outputs": [],
   "source": [
    "# 연습문제 6번 : RBF 커널을 사용해 SVM 분류기를 훈련시켰더니 훈련 세트에 과소적합된 것 같습니다. gamma를 증가시켜야 할까요,\n",
    "# 감소시켜야 할까요? C의 경우에는 어떤가요?\n",
    "\n",
    "# gamma와 C 모두 값이 커질 수록 규제가 적어지고, 값이 작아질 수록 규제가 커진다. 훈련세트에 과소적합되었다면,\n",
    "# gamma값과 C 값 모두 값을 줄이는게 바람직 하다."
   ]
  },
  {
   "cell_type": "code",
   "execution_count": 7,
   "id": "b7d086c6-9405-4476-9b4d-72f57b9f4818",
   "metadata": {},
   "outputs": [],
   "source": [
    "# 연습문제 7번 : 이미 만들어진 QP 알고리즘 라이브러리를 사용해 소프트 마진 선형 SVM 분류기를 학습시키려면\n",
    "# QP 매개변수 (H, f, A, b)를 어떻게 지정해야 하나요?"
   ]
  },
  {
   "cell_type": "code",
   "execution_count": 8,
   "id": "0599761a-cc4a-4ba0-8913-7bc049c4594e",
   "metadata": {},
   "outputs": [],
   "source": [
    "# 하드 마진을 갖는 선형 SVM 분류기의 목적 함수 검증\n",
    "\n",
    "# n_p = n + 1. n 은 특성 수 (편향 때문에 +1이 추가되었음.)\n",
    "# n_c = m. m 은 훈련 샘플 수\n",
    "# H 는 n_p * n+p 크기이고, 왼쪽 맨 위의 원소가 0 (편향을 제외하기 위해)인 것을 제외하고는 단위 행렬.\n",
    "# f = 0. 모두 0으로 채워진 n_p 차원의 벡터\n",
    "# b = 1. 모두 1으로 채워진 n_c 차원의 벡터\n",
    "# a^(i) = -t^(i) * dot x^(i). 여기서 dot x^(i)는 편향을 위해 특성 dot x_0 = 1를 추가한 x^(i) 와 같다.\n",
    "\n",
    "# 결과 벡터 p는 편향 b=p_0와 특성 가중치 w_i=p_i 를 담고 있다."
   ]
  },
  {
   "cell_type": "code",
   "execution_count": 9,
   "id": "3d9305fb-d503-49d6-ba41-9b6613956fa8",
   "metadata": {},
   "outputs": [],
   "source": [
    "# 본래 하드 마진 선형 SVM 분류기의 QP 매개변수를 각각 H', f', A', b' 이라고 가정하자. \n",
    "\n",
    "# 본래 모델 파라미터 수 n_p는 n+1 (편향 포함) 개 였으나, 소프트 마진에서는 슬랙 변수 zeta가 m(샘플 수)개가 추가된다. 따라서 n_p = n + 1 + m\n",
    "# 본래 제약 수 n_c 는 m개 였으나, 소프트 마진에서는 zeta >= 0 의 조건이 추가되어, 제약 수에 추가로 m개가 더해진다. 즉, n_c = 2m.\n",
    "\n",
    "# 소프트 마진의 경우를 QP 문제에 매핑한다면,"
   ]
  },
  {
   "cell_type": "markdown",
   "id": "2c38e17f-c17c-4239-b06d-09a14e008892",
   "metadata": {},
   "source": [
    "$$\\begin{align} \n",
    "& \\underset {\\mathbf p} {minimize} \\; {1 \\over 2} \\mathbf {p}^T \\mathbf {H} \\mathbf {p} + \\mathbf {f}^T \\mathbf {p}\\\\\n",
    "& condition : \\; \\mathbf {A} \\mathbf {p} \\le \\mathbf {b}\\\\\n",
    "& 여기서 \n",
    "\\begin{cases} \n",
    "    \\mathbf {p} 는 \\; n_p 차원의 \\; 벡터 (n_p = 모델 \\; 파리미터 \\; 수) \\\\ \n",
    "    \\mathbf {H} 는 \\; n_p \\times n_p \\; 크기 \\; 행렬 \\\\\n",
    "    \\mathbf {f} 는 \\; n_p 차원의 \\; 벡터 \\\\\n",
    "    \\mathbf {A} 는 \\; n_c \\times n_p \\; 크기 \\; 행렬 (n_c = 제약 \\; 수) \\\\\n",
    "    \\mathbf {b} 는 \\; n_c 차원의 \\; 벡터\n",
    "\\end{cases} \n",
    "\\end{align}$$"
   ]
  },
  {
   "cell_type": "markdown",
   "id": "e2fe3f53-328b-4585-9cfc-0ee8c090a662",
   "metadata": {},
   "source": [
    "$$\\begin{align} \n",
    "& \\underset {w, b, \\zeta} {minimize} \\; {1 \\over 2} \\mathbf {w}^T \\mathbf {w} + C \\sum_{i=1}^m \\zeta^{(i)}\\\\\n",
    "& condition : when \\; i = 1, 2, \\dots, m, \\quad t^{(i)}(\\mathbf {w}^T \\mathbf {x}^{(i)} + b) \\ge 1 - \\zeta^{(i)} \\quad and \\quad \\zeta^{(i)} \\ge 0\n",
    "\\end{align}$$"
   ]
  },
  {
   "cell_type": "code",
   "execution_count": 10,
   "id": "ef35cc92-a072-4e2c-87f3-96ae5bcfe755",
   "metadata": {},
   "outputs": [],
   "source": [
    "# p 는 다음과 같이 정의된다. b는 편향, w는 샘플의 특성 수, zeta는 슬랙변수 이다."
   ]
  },
  {
   "cell_type": "markdown",
   "id": "11fc57ad-5e41-4d72-82bf-74e6da34d3ce",
   "metadata": {},
   "source": [
    "$\n",
    "\\mathbf {p} =\n",
    "\\begin {bmatrix}\n",
    "b \\\\\n",
    "w \\\\\n",
    "\\zeta_0 \\\\\n",
    "\\zeta_1 \\\\\n",
    "\\vdots \\\\\n",
    "\\zeta_m\n",
    "\\end {bmatrix}\n",
    "$"
   ]
  },
  {
   "cell_type": "code",
   "execution_count": 11,
   "id": "cd0adc19-6878-4c98-baff-f3526f2fac62",
   "metadata": {},
   "outputs": [],
   "source": [
    "# H의 경우에는, 하드 마진과 마찬가지로 w^T * w를 매핑해야 하므로, 본래 하드 마진 매개변수 H' 에 나머지를 0으로 채운다.\n",
    "# 이때 H의 크기는 (n + 1 + m) * (n + 1 + m)"
   ]
  },
  {
   "cell_type": "markdown",
   "id": "3d5e2c6f-dc9b-4d66-8e93-f077bbc03089",
   "metadata": {},
   "source": [
    "$\\mathbf {H} =\n",
    "\\begin {bmatrix}\n",
    "H' & 0 & \\cdots  \\\\\n",
    "0 & 0 & \\cdots \\\\\n",
    "\\vdots & \\vdots & \\ddots\n",
    "\\end {bmatrix}\n",
    "\\quad\n",
    "$"
   ]
  },
  {
   "cell_type": "code",
   "execution_count": 12,
   "id": "b8bf2a5a-3f79-4b36-9caa-8fccc2f98b91",
   "metadata": {},
   "outputs": [],
   "source": [
    "# f의 경우에는, 슬랙 변수항을 매핑해야 하므로, 앞 n + 1 개의 원소는 0으로 채우고, 그 뒤 m 개의 원소는 C 로 채운다."
   ]
  },
  {
   "cell_type": "markdown",
   "id": "fcfd26e8-30be-4e23-844d-3fe4c3f0f9a9",
   "metadata": {},
   "source": [
    "$\n",
    "\\mathbf {f} =\n",
    "\\begin {bmatrix}\n",
    "0 & \\cdots & C & \\cdots\n",
    "\\end {bmatrix}\n",
    "$"
   ]
  },
  {
   "cell_type": "code",
   "execution_count": 13,
   "id": "a91c15b8-0d7b-41ee-98ae-d9cd92656b3a",
   "metadata": {},
   "outputs": [],
   "source": [
    "# A 의 경우에는, 두 종류의 제약을 매핑해야 하며, 제약의 개수는 합쳐서 2m개 이다. 따라서 A의 크기는 (2m) * (n + 1 + m)\n",
    "# 첫번째 조건의 경우에는 하드 마진의 조건에다 (-zeta) 항을 추가해야 한다. 또한 두번째 조건 zeta >= 0 도 만족시켜야 한다. 즉,"
   ]
  },
  {
   "cell_type": "markdown",
   "id": "e26350f4-88fb-42b0-a960-b70b930de91a",
   "metadata": {},
   "source": [
    "$$\\begin{align} \n",
    "& condition : when \\; i = 1, 2, \\dots, m, \\quad t^{(i)}(\\mathbf {w}^T \\mathbf {x}^{(i)} + b) \\ge 1 - \\zeta^{(i)} \\quad and \\quad \\zeta^{(i)} \\ge 0 \\\\\n",
    "& condition : when \\; i = 1, 2, \\dots, m, \\quad -t^{(i)}(\\mathbf {w}^T \\mathbf {x}^{(i)} + b) - \\zeta^{(i)} \\le 1  \\quad and \\quad -\\zeta^{(i)} \\le 0\n",
    "\\end{align}$$"
   ]
  },
  {
   "cell_type": "code",
   "execution_count": 14,
   "id": "412ea1c9-379f-4e38-99ce-ffb16eb89bf1",
   "metadata": {},
   "outputs": [],
   "source": [
    "# p를 다음과 같이 표현한다면"
   ]
  },
  {
   "cell_type": "markdown",
   "id": "565cfdab-3f4b-4fbe-9a4f-226abfcd6f10",
   "metadata": {},
   "source": [
    "$\n",
    "\\mathbf {p} =\n",
    "\\begin {bmatrix}\n",
    "\\theta \\\\\n",
    "\\zeta\n",
    "\\end {bmatrix}\n",
    "$"
   ]
  },
  {
   "cell_type": "code",
   "execution_count": 15,
   "id": "4292cc5e-5456-4431-ad4b-41e27238627f",
   "metadata": {},
   "outputs": [],
   "source": [
    "# 과 같이 표현이 가능하고, 첫번째 조건의 첫번째 항은 A' * theta 로 표현이 된다."
   ]
  },
  {
   "cell_type": "code",
   "execution_count": 16,
   "id": "57a1ab01-6d7e-4e74-abcd-2e4805591088",
   "metadata": {},
   "outputs": [],
   "source": [
    "# 따라서, 두 조건을 QP 문제에 매핑 할수 있는 A는,"
   ]
  },
  {
   "cell_type": "markdown",
   "id": "bb1e8989-4b05-45de-b2b8-66b2535af206",
   "metadata": {},
   "source": [
    "$\n",
    "\\mathbf {A} =\n",
    "\\begin {bmatrix}\n",
    "A' & -I_m \\\\\n",
    "0 & -I_m \n",
    "\\end {bmatrix}\n",
    "\\quad\n",
    "$"
   ]
  },
  {
   "cell_type": "code",
   "execution_count": 17,
   "id": "3924610d-903c-409c-a778-572541f2d3c3",
   "metadata": {},
   "outputs": [],
   "source": [
    "# 이때 A의 첫번째 행은 첫번째 조건(제약)을, 두번째 행은 두번째 조건을 만들어 낸다. 그리고 I_m은 m * m 크기의 단위행렬이다."
   ]
  },
  {
   "cell_type": "code",
   "execution_count": 18,
   "id": "92741a2f-f107-492f-a7e9-0da77a226960",
   "metadata": {},
   "outputs": [],
   "source": [
    "# b 의 경우에는, 두가지 제약을 표현해야 하므로"
   ]
  },
  {
   "cell_type": "markdown",
   "id": "8ef3c41f-456d-4988-8c73-2e14c65fc642",
   "metadata": {},
   "source": [
    "$\n",
    "\\mathbf {b} =\n",
    "\\begin {bmatrix}\n",
    "b' & 0 & \\cdots & 0\n",
    "\\end {bmatrix}\n",
    "$"
   ]
  },
  {
   "cell_type": "code",
   "execution_count": 19,
   "id": "0cadd177-a94d-48ea-86ab-1e430908629f",
   "metadata": {},
   "outputs": [],
   "source": [
    "# 이때 0 의 개수는 m 이다."
   ]
  }
 ],
 "metadata": {
  "kernelspec": {
   "display_name": "Python 3 (ipykernel)",
   "language": "python",
   "name": "python3"
  },
  "language_info": {
   "codemirror_mode": {
    "name": "ipython",
    "version": 3
   },
   "file_extension": ".py",
   "mimetype": "text/x-python",
   "name": "python",
   "nbconvert_exporter": "python",
   "pygments_lexer": "ipython3",
   "version": "3.11.7"
  }
 },
 "nbformat": 4,
 "nbformat_minor": 5
}
