{
 "cells": [
  {
   "cell_type": "code",
   "execution_count": 1,
   "id": "2785eab2",
   "metadata": {},
   "outputs": [],
   "source": [
    "# 1번 : 수백만 개의 특성을 가진 훈련 세트에서는 어떤 선형 회귀 알고리즘을 사용할 수 있을 까요?\n",
    "\n",
    "# 특성수가 매우 많기 때문에, 정규 방정식 혹은 SVD는 적합하지 않다. 따라서 경사하강법을 사용한다. "
   ]
  },
  {
   "cell_type": "code",
   "execution_count": 2,
   "id": "15ad06e9",
   "metadata": {},
   "outputs": [],
   "source": [
    "# 2번 : 훈련 세트에 있는 특성들이 아주 다른 스케일을 가지고 있습니다. 이런 데이터에 잘 작동하지 않는 알고리즘은 무엇인가요? \n",
    "# 그 이유는 무엇일까요? 이 문제를 어떻게 해결 할 수 있을 까요?\n",
    "\n",
    "# 경사하강법. 스케일이 다르면 전역 최솟값에 도달하는데 많은 시간이 걸린다. 따라서 sklearn 의 standardscaler 같은 것을 사용하여\n",
    "# 각 특성의 스케일을 동일하게 맞추어 주어야 한다.\n"
   ]
  },
  {
   "cell_type": "code",
   "execution_count": 3,
   "id": "309c8a9a",
   "metadata": {},
   "outputs": [],
   "source": [
    "# 3번 : 경사 하강법으로 로지스틱 회귀 모델을 훈련시킬 때 지역 최솟값에 갇힐 가능성이 있을 까요?\n",
    "\n",
    "# 로지스틱 회귀 모델의 비용 함수는 볼록 함수이다. 따라서 전역 최솟값을 찾는 것을 보장한다."
   ]
  },
  {
   "cell_type": "code",
   "execution_count": 4,
   "id": "1b9968a4",
   "metadata": {},
   "outputs": [],
   "source": [
    "# 4번 : 충분히 오랫동안 실행하면 모든 경사 하강법 알고리즘이 같은 모델을 만들어 낼까요?\n",
    "\n",
    "# 속도에는 차이가 존재하겠지만, 결국 같은 모델을 만들어 낼 것. (확률적, 미니배치의 경우, 학습률을 점차 감소시킨다면)"
   ]
  },
  {
   "cell_type": "code",
   "execution_count": 5,
   "id": "21659034",
   "metadata": {},
   "outputs": [],
   "source": [
    "# 5번 : 배치 경사 하강법을 사용하고, 에포크마다 검증 오차를 그래프로 나타내봤습니다. 검증 오차가 일정하게 상승되고 있다면,\n",
    "# 어떤 일이 일어나고 있는 것일 까요? 이 문제를 어떻게 해결 할 수 있을 까요?\n",
    "\n",
    "# 모델은 훈련세트에 과대적합 되고 있다. 따라서 조기 종료를 사용하여 과대 적합이 되기 바로 전의 모델을 선별 할 수 있다."
   ]
  },
  {
   "cell_type": "code",
   "execution_count": 6,
   "id": "82a431b7",
   "metadata": {},
   "outputs": [],
   "source": [
    "# 6번 : 검증 오차가 상승하면 미니배치 경사 하강법을 즉시 중단하는 것이 좋은 방법인가요?\n",
    "\n",
    "# 아니다. 미니배치에서는 검증 오차가 진동하기 때문에, 검증 오차가 일정 시간 동안 최솟값보다 크다면 그때 경사 하강법을 중단하고\n",
    "# 검증 오차가 최저일때의 모델을 사용하면 된다."
   ]
  },
  {
   "cell_type": "code",
   "execution_count": 7,
   "id": "7cb8324d",
   "metadata": {},
   "outputs": [],
   "source": [
    "# 7번 : 어떤 경사 하강법 알고리즘이 가장 빠르게 최적 솔루션의 주변에 도달할 까요? 실제로 수렴하는 것은 어떤 것인가요?\n",
    "# 다른 방법들도 수렴하게 만들 수 있을 까요?\n",
    "\n",
    "# 속도가 제일 빠른 것은 확률적 경사 하강법, SGD 이다. 한 개의 샘플을 사용하니까. 실제로 수렴하는 것은 배치 경사 하강법이다. \n",
    "# 다른 방법들은 전역 최저점 주변에서 진동하기 때문. 이를 방지 하기 위해서 훈련을 진행하면서 학습률을 점차 감소시키면 된다."
   ]
  },
  {
   "cell_type": "code",
   "execution_count": 8,
   "id": "bd1ad4e0",
   "metadata": {},
   "outputs": [],
   "source": [
    "# 8번 : 다항 회귀를 사용 했을 때 학습 곡선을 보니 훈련 오차와 검증 오차 사이에 간격이 큽니다. 무슨 일이 생긴 걸까요?\n",
    "# 이 문제를 해결하는 세 가지 방법은 무엇인가요?\n",
    "\n",
    "# 과대적합. 데이터를 늘리거나, 규제를 사용하거나, 다항 회귀의 차수를 줄인다. "
   ]
  },
  {
   "cell_type": "code",
   "execution_count": 9,
   "id": "34235d0c",
   "metadata": {},
   "outputs": [],
   "source": [
    "# 9번 : 릿지 회귀를 사용했을 때 훈련 오차와 검증 오차가 거의 비슷하고 둘 다 높았다. 높은 편향이 문제인가 높은 분산이 문제인가?\n",
    "# 규제 하이퍼파라미터 알파를 증가해야 하는가, 아니면 줄여야 하는가?\n",
    "\n",
    "# 과소적합. 과소적합은 높은 편향이 문제이다. 따라서 규제 하이퍼파라미터 알파를 줄여야 한다."
   ]
  },
  {
   "cell_type": "code",
   "execution_count": 10,
   "id": "ad0cba22",
   "metadata": {},
   "outputs": [],
   "source": [
    "# 10번\n",
    "\n",
    "# 규제가 약간이라도 있는 것이 대부분의 경우에 좋다. 따라서 릿지 회귀\n",
    "# 쓰이는 특성이 몇 개뿐이라고 의심되면 라쏘 회귀.\n",
    "# 특성 수가 샘플 수보다 많거나, 특성 몇 개가 강하게 연관되어 있을 때 엘라스틱넷."
   ]
  },
  {
   "cell_type": "code",
   "execution_count": 11,
   "id": "a5602c16",
   "metadata": {},
   "outputs": [],
   "source": [
    "# 11번 : 사진을 낮과 밤, 실내와 실외로 분류하려 합니다. 두 개의 로지스틱 회귀 분류기를 만들어야 할까요, 아니면 하나의 소프트맥스\n",
    "# 회귀 분류기를 만들어야 할까요?\n",
    "\n",
    "# 낮과 밤, 실내와 실외는 상호 배타적인 클래스가 아니다. 따라서 두 개의 로지스틱 회귀 분류기를 만들어야 한다. "
   ]
  },
  {
   "cell_type": "code",
   "execution_count": null,
   "id": "21b37411",
   "metadata": {},
   "outputs": [],
   "source": []
  }
 ],
 "metadata": {
  "kernelspec": {
   "display_name": "Python 3 (ipykernel)",
   "language": "python",
   "name": "python3"
  },
  "language_info": {
   "codemirror_mode": {
    "name": "ipython",
    "version": 3
   },
   "file_extension": ".py",
   "mimetype": "text/x-python",
   "name": "python",
   "nbconvert_exporter": "python",
   "pygments_lexer": "ipython3",
   "version": "3.11.5"
  }
 },
 "nbformat": 4,
 "nbformat_minor": 5
}
